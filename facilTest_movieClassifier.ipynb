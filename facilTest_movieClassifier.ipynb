{
 "cells": [
  {
   "cell_type": "markdown",
   "source": [
    "# CMU Movie Summary Corpus\n",
    "Este notebook realiza a classificação multi-label dos gêneros dos filmes com base em suas sinopses.\n",
    "\n",
    "Os dados são provenientes do CMU Movie Summary Corpus, que consiste em metadados e sinopses de filmes.\n",
    "\n",
    "Neste notebook, vamos testar dois algoritmos de classificação diferentes:\n",
    "*   **RandomForestClassifier**\n",
    "*   **DecisionTreeClassifier**\n",
    "\n",
    "Ambos serão usados para classificar as sinopses dos filmes em múltiplos gêneros.\n"
   ],
   "metadata": {
    "id": "cBpiq9TOgC45"
   },
   "id": "cBpiq9TOgC45"
  },
  {
   "cell_type": "markdown",
   "source": [
    "# 1 - Carregar os dados\n",
    "Essa seção aborda questões de importação e carregamento dos dados utilizados nesse projeto.\n"
   ],
   "metadata": {
    "id": "K90YTaVBo-Iz"
   },
   "id": "K90YTaVBo-Iz"
  },
  {
   "cell_type": "code",
   "id": "7d8478d05ea16434",
   "metadata": {
    "id": "7d8478d05ea16434",
    "ExecuteTime": {
     "end_time": "2024-04-26T11:42:16.857972Z",
     "start_time": "2024-04-26T11:42:11.675311Z"
    }
   },
   "source": [
    "import pandas as pd\n",
    "from sklearn.feature_extraction.text import TfidfVectorizer\n",
    "from sklearn.preprocessing import MultiLabelBinarizer\n",
    "from sklearn.model_selection import train_test_split\n",
    "from sklearn.multioutput import MultiOutputClassifier\n",
    "from sklearn.ensemble import RandomForestClassifier\n",
    "from sklearn.pipeline import Pipeline\n",
    "from sklearn.metrics import classification_report\n",
    "import matplotlib.pyplot as plt\n",
    "from sklearn.tree import DecisionTreeClassifier"
   ],
   "outputs": [],
   "execution_count": 1
  },
  {
   "cell_type": "markdown",
   "source": [
    "A seguir, serão importados e carregados para um dataframe os dois datasets referentes respectivamente a:\n",
    "\n",
    "*   movie.metadata: Dados referentes a filmes, como título, ano e línguas;\n",
    "*   plot_summaries: Dados referentes a sinopses dos filmes"
   ],
   "metadata": {
    "id": "j3dvGy8lpRPk"
   },
   "id": "j3dvGy8lpRPk"
  },
  {
   "cell_type": "code",
   "id": "87eb2b04b77c1a0f",
   "metadata": {
    "id": "87eb2b04b77c1a0f",
    "ExecuteTime": {
     "end_time": "2024-04-26T11:42:16.867690Z",
     "start_time": "2024-04-26T11:42:16.861967Z"
    }
   },
   "source": [
    "metadata_path = \"movie.metadata.tsv\"\n",
    "plot_summaries_path = \"plot_summaries.txt\""
   ],
   "outputs": [],
   "execution_count": 2
  },
  {
   "metadata": {
    "ExecuteTime": {
     "end_time": "2024-04-26T11:42:16.888238Z",
     "start_time": "2024-04-26T11:42:16.868690Z"
    }
   },
   "cell_type": "code",
   "source": "metadata_path",
   "id": "a0a201bc893e4e28",
   "outputs": [
    {
     "data": {
      "text/plain": [
       "'movie.metadata.tsv'"
      ]
     },
     "execution_count": 3,
     "metadata": {},
     "output_type": "execute_result"
    }
   ],
   "execution_count": 3
  },
  {
   "cell_type": "code",
   "id": "626ca9f3a14c8bf4",
   "metadata": {
    "id": "626ca9f3a14c8bf4",
    "ExecuteTime": {
     "end_time": "2024-04-26T11:42:17.916590Z",
     "start_time": "2024-04-26T11:42:16.890236Z"
    }
   },
   "source": [
    "metadata = pd.read_csv(metadata_path, sep='\\t', header=None)\n",
    "metadata.columns = [\"movie_id\", \"freebase_id\", \"movie_name\",\n",
    "                    \"movie_release_date\", \"movie_revenue\",\n",
    "                    \"movie_runtime\", \"movie_languages\", \"movie_countries\",\n",
    "                    \"movie_genres\"]"
   ],
   "outputs": [],
   "execution_count": 4
  },
  {
   "cell_type": "code",
   "id": "3362438ba31928",
   "metadata": {
    "id": "3362438ba31928",
    "ExecuteTime": {
     "end_time": "2024-04-26T11:42:19.736593Z",
     "start_time": "2024-04-26T11:42:17.918589Z"
    }
   },
   "source": [
    "plot_summaries = pd.read_csv(plot_summaries_path, sep='\\t', header=None)\n",
    "plot_summaries.columns = [\"movie_id\", \"plot_summary\"]"
   ],
   "outputs": [],
   "execution_count": 5
  },
  {
   "cell_type": "markdown",
   "source": [
    "Seguindo para a agregação dos dois dataframes, vinculados pela coluna \"movie_id\""
   ],
   "metadata": {
    "id": "FEmRFaOBsbxr"
   },
   "id": "FEmRFaOBsbxr"
  },
  {
   "cell_type": "code",
   "id": "4cbffc0bd601e91b",
   "metadata": {
    "id": "4cbffc0bd601e91b",
    "ExecuteTime": {
     "end_time": "2024-04-26T11:42:19.984650Z",
     "start_time": "2024-04-26T11:42:19.811409Z"
    }
   },
   "source": [
    "movies = pd.merge(metadata, plot_summaries, on=\"movie_id\")"
   ],
   "outputs": [],
   "execution_count": 6
  },
  {
   "cell_type": "markdown",
   "source": [
    "# 2 - Análise Exploratória\n",
    "Essa seção aborda a realização de uma análise exploratória e através dela nos permite que:\n",
    "\n",
    "\n",
    "1.   Visualizarmos as primeiras linhas dos dados para entender sua estrutura.\n",
    "2.   Calcularmos estatísticas descritivas, como média, mínimo e máximo, para variáveis numéricas, como a duração dos filmes.\n",
    "3.   Contarmos o número de filmes por gênero e exibimos a distribuição dessa contagem."
   ],
   "metadata": {
    "id": "uM-JCOGRsoAz"
   },
   "id": "uM-JCOGRsoAz"
  },
  {
   "cell_type": "code",
   "source": [
    "print(\"Número total de filmes no conjunto de dados:\", len(movies))"
   ],
   "metadata": {
    "id": "XRjOKNSusskB",
    "colab": {
     "base_uri": "https://localhost:8080/"
    },
    "outputId": "d94d04ea-e3af-4521-d1bf-d54cf886d367",
    "ExecuteTime": {
     "end_time": "2024-04-26T11:42:20.003470Z",
     "start_time": "2024-04-26T11:42:19.986648Z"
    }
   },
   "id": "XRjOKNSusskB",
   "outputs": [
    {
     "name": "stdout",
     "output_type": "stream",
     "text": [
      "Número total de filmes no conjunto de dados: 42204\n"
     ]
    }
   ],
   "execution_count": 7
  },
  {
   "cell_type": "markdown",
   "source": [
    " Visualizar as primeiras linhas dos dados"
   ],
   "metadata": {
    "id": "Nbp9jXxeyQet"
   },
   "id": "Nbp9jXxeyQet"
  },
  {
   "cell_type": "code",
   "source": [
    "print(\"### Amostra dos Dados ###\")\n",
    "print(movies.head())\n",
    "print()\n"
   ],
   "metadata": {
    "id": "FFPC2I7msvh0",
    "colab": {
     "base_uri": "https://localhost:8080/"
    },
    "outputId": "76ef5599-cf6f-4d21-d3b0-8f99f828c2c7",
    "ExecuteTime": {
     "end_time": "2024-04-26T11:42:20.102733Z",
     "start_time": "2024-04-26T11:42:20.014446Z"
    }
   },
   "id": "FFPC2I7msvh0",
   "outputs": [
    {
     "name": "stdout",
     "output_type": "stream",
     "text": [
      "### Amostra dos Dados ###\n",
      "   movie_id freebase_id                 movie_name movie_release_date  \\\n",
      "0    975900   /m/03vyhn             Ghosts of Mars         2001-08-24   \n",
      "1   9363483  /m/0285_cd           White Of The Eye               1987   \n",
      "2    261236   /m/01mrr1          A Woman in Flames               1983   \n",
      "3  18998739  /m/04jcqvw  The Sorcerer's Apprentice               2002   \n",
      "4   6631279   /m/0gffwj                Little city         1997-04-04   \n",
      "\n",
      "   movie_revenue  movie_runtime                     movie_languages  \\\n",
      "0     14010832.0           98.0  {\"/m/02h40lc\": \"English Language\"}   \n",
      "1            NaN          110.0  {\"/m/02h40lc\": \"English Language\"}   \n",
      "2            NaN          106.0   {\"/m/04306rv\": \"German Language\"}   \n",
      "3            NaN           86.0  {\"/m/02h40lc\": \"English Language\"}   \n",
      "4            NaN           93.0  {\"/m/02h40lc\": \"English Language\"}   \n",
      "\n",
      "                             movie_countries  \\\n",
      "0  {\"/m/09c7w0\": \"United States of America\"}   \n",
      "1             {\"/m/07ssc\": \"United Kingdom\"}   \n",
      "2                    {\"/m/0345h\": \"Germany\"}   \n",
      "3               {\"/m/0hzlz\": \"South Africa\"}   \n",
      "4  {\"/m/09c7w0\": \"United States of America\"}   \n",
      "\n",
      "                                        movie_genres  \\\n",
      "0  {\"/m/01jfsb\": \"Thriller\", \"/m/06n90\": \"Science...   \n",
      "1  {\"/m/01jfsb\": \"Thriller\", \"/m/0glj9q\": \"Erotic...   \n",
      "2                            {\"/m/07s9rl0\": \"Drama\"}   \n",
      "3  {\"/m/0hqxf\": \"Family Film\", \"/m/01hmnh\": \"Fant...   \n",
      "4  {\"/m/06cvj\": \"Romantic comedy\", \"/m/0hj3n0w\": ...   \n",
      "\n",
      "                                        plot_summary  \n",
      "0  Set in the second half of the 22nd century, th...  \n",
      "1  A series of murders of rich young women throug...  \n",
      "2  Eva, an upper class housewife, becomes frustra...  \n",
      "3  Every hundred years, the evil Morgana  returns...  \n",
      "4  Adam, a San Francisco-based artist who works a...  \n",
      "\n"
     ]
    }
   ],
   "execution_count": 8
  },
  {
   "cell_type": "markdown",
   "source": [
    "Entendendo a estrutura dos dados\n"
   ],
   "metadata": {
    "id": "p3gcaupKCSnH"
   },
   "id": "p3gcaupKCSnH"
  },
  {
   "cell_type": "code",
   "source": [
    "print(movies.dtypes)"
   ],
   "metadata": {
    "colab": {
     "base_uri": "https://localhost:8080/"
    },
    "id": "6Kb6tvkSCUeW",
    "outputId": "07be96b3-73f5-4418-ae24-7ceb3233cae4",
    "ExecuteTime": {
     "end_time": "2024-04-26T11:42:20.136816Z",
     "start_time": "2024-04-26T11:42:20.105730Z"
    }
   },
   "id": "6Kb6tvkSCUeW",
   "outputs": [
    {
     "name": "stdout",
     "output_type": "stream",
     "text": [
      "movie_id                int64\n",
      "freebase_id            object\n",
      "movie_name             object\n",
      "movie_release_date     object\n",
      "movie_revenue         float64\n",
      "movie_runtime         float64\n",
      "movie_languages        object\n",
      "movie_countries        object\n",
      "movie_genres           object\n",
      "plot_summary           object\n",
      "dtype: object\n"
     ]
    }
   ],
   "execution_count": 9
  },
  {
   "cell_type": "markdown",
   "source": [
    "Estatísticas descritivas\n"
   ],
   "metadata": {
    "id": "EcL0iJF1ycO6"
   },
   "id": "EcL0iJF1ycO6"
  },
  {
   "cell_type": "code",
   "source": [
    "print(movies.describe())\n",
    "print()"
   ],
   "metadata": {
    "id": "syCpWmdAyixt",
    "colab": {
     "base_uri": "https://localhost:8080/"
    },
    "outputId": "612a899e-5622-4d49-9bbb-801783137811",
    "ExecuteTime": {
     "end_time": "2024-04-26T11:42:20.254181Z",
     "start_time": "2024-04-26T11:42:20.144802Z"
    }
   },
   "id": "syCpWmdAyixt",
   "outputs": [
    {
     "name": "stdout",
     "output_type": "stream",
     "text": [
      "           movie_id  movie_revenue  movie_runtime\n",
      "count  4.220400e+04   7.587000e+03   3.558000e+04\n",
      "mean   1.495709e+07   5.175973e+07   1.285403e+02\n",
      "std    1.111620e+07   1.167179e+08   5.721460e+03\n",
      "min    3.300000e+02   1.020000e+04   3.000000e-01\n",
      "25%    4.559790e+06   2.500000e+06   8.600000e+01\n",
      "50%    1.282482e+07   1.242118e+07   9.600000e+01\n",
      "75%    2.482497e+07   4.559722e+07   1.100000e+02\n",
      "max    3.750192e+07   2.782275e+09   1.079281e+06\n",
      "\n"
     ]
    }
   ],
   "execution_count": 10
  },
  {
   "cell_type": "markdown",
   "source": [
    "Contagem de filmes por gênero\n",
    "\n"
   ],
   "metadata": {
    "id": "E2ZMK84kylfn"
   },
   "id": "E2ZMK84kylfn"
  },
  {
   "cell_type": "code",
   "source": [
    "genre_counts = movies[\"movie_genres\"].apply(lambda x: len(eval(x))).value_counts()\n",
    "print(genre_counts)\n",
    "print()"
   ],
   "metadata": {
    "id": "o3CjiLkDypGp",
    "colab": {
     "base_uri": "https://localhost:8080/"
    },
    "outputId": "58beee8b-d40f-4cca-a421-cf36b9881f89",
    "ExecuteTime": {
     "end_time": "2024-04-26T11:42:21.313159Z",
     "start_time": "2024-04-26T11:42:20.260171Z"
    }
   },
   "id": "o3CjiLkDypGp",
   "outputs": [
    {
     "name": "stdout",
     "output_type": "stream",
     "text": [
      "movie_genres\n",
      "1     8424\n",
      "2     7440\n",
      "3     7053\n",
      "4     6211\n",
      "5     4497\n",
      "6     3326\n",
      "7     2222\n",
      "8     1249\n",
      "9      725\n",
      "0      411\n",
      "10     356\n",
      "11     166\n",
      "12      70\n",
      "13      36\n",
      "14      11\n",
      "15       5\n",
      "16       1\n",
      "17       1\n",
      "Name: count, dtype: int64\n",
      "\n"
     ]
    }
   ],
   "execution_count": 11
  },
  {
   "cell_type": "markdown",
   "source": [
    "Distribuição dos Gêneros dos Filmes"
   ],
   "metadata": {
    "id": "bITiG3CGytnN"
   },
   "id": "bITiG3CGytnN"
  },
  {
   "cell_type": "code",
   "source": [
    "genres = []\n",
    "for genre_list in movies[\"movie_genres\"]:\n",
    "    genre_dict = eval(genre_list)\n",
    "    genre_names = [genre_name for genre_id, genre_name in genre_dict.items()]\n",
    "    genres.extend(genre_names)\n",
    "\n",
    "genre_distribution = pd.Series(genres).value_counts()\n",
    "\n",
    "# Filtrar para trazer apenas os 10 gêneros mais frequentes\n",
    "top_25_genres = genre_distribution.head(25)\n",
    "\n",
    "# Plotar gráfico de barras\n",
    "plt.figure(figsize=(10, 6))\n",
    "top_25_genres.plot(kind='bar')\n",
    "plt.title('Top 25 Gêneros dos Filmes')\n",
    "plt.xlabel('Gênero')\n",
    "plt.ylabel('Número de Filmes')\n",
    "plt.xticks(rotation=45, ha='right')\n",
    "plt.tight_layout()\n",
    "plt.show()"
   ],
   "metadata": {
    "id": "62W-tefFyxvf",
    "colab": {
     "base_uri": "https://localhost:8080/",
     "height": 0
    },
    "outputId": "4222cd86-5b91-48f5-df67-510c242a9249",
    "ExecuteTime": {
     "end_time": "2024-04-26T11:42:22.891461Z",
     "start_time": "2024-04-26T11:42:21.317153Z"
    }
   },
   "id": "62W-tefFyxvf",
   "outputs": [
    {
     "data": {
      "text/plain": [
       "<Figure size 1000x600 with 1 Axes>"
      ],
      "image/png": "[encoded data removed]"
     },
     "metadata": {},
     "output_type": "display_data"
    }
   ],
   "execution_count": 12
  },
  {
   "cell_type": "markdown",
   "source": [
    "\n",
    "# 3 - Pré-Processamento\n",
    "\n",
    "Essa seção aborda o Pré-Processamento e transformação dos dados para treinamento.\n",
    "\n",
    "Foi identificado uma necessidade de extrair os gêneros como rótulos e as sinopses dos filmes como dados de entrada, no intuito de transforma-los para serem utilizados na próxima etapa."
   ],
   "metadata": {
    "id": "vIIyukLIhD4o"
   },
   "id": "vIIyukLIhD4o"
  },
  {
   "cell_type": "code",
   "source": [
    "genres = []\n",
    "for genre_list in movies[\"movie_genres\"]:\n",
    "    genre_dict = eval(genre_list)  # Avalia a string como um dicionário\n",
    "    genre_names = [genre_name for genre_id, genre_name in genre_dict.items()]\n",
    "    genres.append(genre_names)"
   ],
   "metadata": {
    "id": "oUwKF1RxfSji",
    "ExecuteTime": {
     "end_time": "2024-04-26T11:42:24.609137Z",
     "start_time": "2024-04-26T11:42:22.895454Z"
    }
   },
   "id": "oUwKF1RxfSji",
   "outputs": [],
   "execution_count": 13
  },
  {
   "cell_type": "code",
   "source": [
    "mlb = MultiLabelBinarizer()\n",
    "y = mlb.fit_transform(genres)\n",
    "genre_labels = mlb.classes_"
   ],
   "metadata": {
    "id": "IQoiJFv2fVw7",
    "ExecuteTime": {
     "end_time": "2024-04-26T11:42:24.692261Z",
     "start_time": "2024-04-26T11:42:24.610128Z"
    }
   },
   "id": "IQoiJFv2fVw7",
   "outputs": [],
   "execution_count": 14
  },
  {
   "cell_type": "markdown",
   "source": [
    "# 4 - Treinamento e Classificação\n",
    "\n",
    "Nessa seção descreve a criação e treinamento dos modelos de classificação para o proposto projeto\n",
    "\n"
   ],
   "metadata": {
    "id": "fiNbAbIBgQgn"
   },
   "id": "fiNbAbIBgQgn"
  },
  {
   "cell_type": "markdown",
   "source": [
    "Em seguida, dividiremos os dados em conjuntos de treinamento e teste.\n",
    "\n",
    "O parâmetro **test_size** define a proporção do conjunto de dados que será reservada para o conjunto de teste.\n",
    "\n",
    "Neste caso, test_size=0.2 significa que 20% dos dados serão usados como conjunto de teste, enquanto os restantes 80% serão usados como conjunto de treinamento.\n",
    "\n",
    "Já o parâmetro **random_state** é usado para controlar a aleatoriedade na divisão dos dados em conjuntos de treinamento e teste. Ao definir um valor específico para random_state, você garante que a divisão dos dados será reproduzível."
   ],
   "metadata": {
    "id": "lzH2d_0y8MlN"
   },
   "id": "lzH2d_0y8MlN"
  },
  {
   "cell_type": "code",
   "id": "a6dc0627d812247",
   "metadata": {
    "id": "a6dc0627d812247",
    "ExecuteTime": {
     "end_time": "2024-04-26T11:42:24.817245Z",
     "start_time": "2024-04-26T11:42:24.694251Z"
    }
   },
   "source": [
    "X_train, X_test, y_train, y_test = train_test_split(movies[\"plot_summary\"], y, test_size=0.2, random_state=42)"
   ],
   "outputs": [],
   "execution_count": 15
  },
  {
   "cell_type": "markdown",
   "source": [
    "## 4.1 - Treinamento e Classificação RandomForestClassifier\n",
    "\n",
    "O RandomForestClassifier é um algoritmo de aprendizado que pode ser usado tanto para classificação quanto para regressão.\n",
    "\n",
    "É baseado em ensemble que constrói várias árvores de decisão aleatórias e combina suas previsões.\n",
    "\n",
    "Em sequencia, será iniciado a construção do pipeline de classificação com RandomForest\n"
   ],
   "metadata": {
    "id": "6qnrC_cqurd0"
   },
   "id": "6qnrC_cqurd0"
  },
  {
   "cell_type": "code",
   "id": "bcbddc6dc229ef38",
   "metadata": {
    "id": "bcbddc6dc229ef38",
    "ExecuteTime": {
     "end_time": "2024-04-26T11:42:24.833368Z",
     "start_time": "2024-04-26T11:42:24.819234Z"
    }
   },
   "source": [
    "pipeline_rf = Pipeline([\n",
    "    ('tfidf', TfidfVectorizer(stop_words='english')),\n",
    "    ('clf', MultiOutputClassifier(RandomForestClassifier()))\n",
    "])"
   ],
   "outputs": [],
   "execution_count": 16
  },
  {
   "cell_type": "markdown",
   "source": [
    "Seguido pelo treinamento do Modelo"
   ],
   "metadata": {
    "id": "C0LHje0vvjNS"
   },
   "id": "C0LHje0vvjNS"
  },
  {
   "cell_type": "code",
   "id": "d565cc17e265a25b",
   "metadata": {
    "id": "d565cc17e265a25b",
    "ExecuteTime": {
     "end_time": "2024-04-26T14:26:26.036041Z",
     "start_time": "2024-04-26T11:42:24.838381Z"
    }
   },
   "source": [
    "pipeline_rf.fit(X_train, y_train)"
   ],
   "outputs": [
    {
     "data": {
      "text/plain": [
       "Pipeline(steps=[('tfidf', TfidfVectorizer(stop_words='english')),\n",
       "                ('clf',\n",
       "                 MultiOutputClassifier(estimator=RandomForestClassifier()))])"
      ],
      "text/html": [
       "<style>#sk-container-id-1 {color: black;background-color: white;}#sk-container-id-1 pre{padding: 0;}#sk-container-id-1 div.sk-toggleable {background-color: white;}#sk-container-id-1 label.sk-toggleable__label {cursor: pointer;display: block;width: 100%;margin-bottom: 0;padding: 0.3em;box-sizing: border-box;text-align: center;}#sk-container-id-1 label.sk-toggleable__label-arrow:before {content: \"▸\";float: left;margin-right: 0.25em;color: #696969;}#sk-container-id-1 label.sk-toggleable__label-arrow:hover:before {color: black;}#sk-container-id-1 div.sk-estimator:hover label.sk-toggleable__label-arrow:before {color: black;}#sk-container-id-1 div.sk-toggleable__content {max-height: 0;max-width: 0;overflow: hidden;text-align: left;background-color: #f0f8ff;}#sk-container-id-1 div.sk-toggleable__content pre {margin: 0.2em;color: black;border-radius: 0.25em;background-color: #f0f8ff;}#sk-container-id-1 input.sk-toggleable__control:checked~div.sk-toggleable__content {max-height: 200px;max-width: 100%;overflow: auto;}#sk-container-id-1 input.sk-toggleable__control:checked~label.sk-toggleable__label-arrow:before {content: \"▾\";}#sk-container-id-1 div.sk-estimator input.sk-toggleable__control:checked~label.sk-toggleable__label {background-color: #d4ebff;}#sk-container-id-1 div.sk-label input.sk-toggleable__control:checked~label.sk-toggleable__label {background-color: #d4ebff;}#sk-container-id-1 input.sk-hidden--visually {border: 0;clip: rect(1px 1px 1px 1px);clip: rect(1px, 1px, 1px, 1px);height: 1px;margin: -1px;overflow: hidden;padding: 0;position: absolute;width: 1px;}#sk-container-id-1 div.sk-estimator {font-family: monospace;background-color: #f0f8ff;border: 1px dotted black;border-radius: 0.25em;box-sizing: border-box;margin-bottom: 0.5em;}#sk-container-id-1 div.sk-estimator:hover {background-color: #d4ebff;}#sk-container-id-1 div.sk-parallel-item::after {content: \"\";width: 100%;border-bottom: 1px solid gray;flex-grow: 1;}#sk-container-id-1 div.sk-label:hover label.sk-toggleable__label {background-color: #d4ebff;}#sk-container-id-1 div.sk-serial::before {content: \"\";position: absolute;border-left: 1px solid gray;box-sizing: border-box;top: 0;bottom: 0;left: 50%;z-index: 0;}#sk-container-id-1 div.sk-serial {display: flex;flex-direction: column;align-items: center;background-color: white;padding-right: 0.2em;padding-left: 0.2em;position: relative;}#sk-container-id-1 div.sk-item {position: relative;z-index: 1;}#sk-container-id-1 div.sk-parallel {display: flex;align-items: stretch;justify-content: center;background-color: white;position: relative;}#sk-container-id-1 div.sk-item::before, #sk-container-id-1 div.sk-parallel-item::before {content: \"\";position: absolute;border-left: 1px solid gray;box-sizing: border-box;top: 0;bottom: 0;left: 50%;z-index: -1;}#sk-container-id-1 div.sk-parallel-item {display: flex;flex-direction: column;z-index: 1;position: relative;background-color: white;}#sk-container-id-1 div.sk-parallel-item:first-child::after {align-self: flex-end;width: 50%;}#sk-container-id-1 div.sk-parallel-item:last-child::after {align-self: flex-start;width: 50%;}#sk-container-id-1 div.sk-parallel-item:only-child::after {width: 0;}#sk-container-id-1 div.sk-dashed-wrapped {border: 1px dashed gray;margin: 0 0.4em 0.5em 0.4em;box-sizing: border-box;padding-bottom: 0.4em;background-color: white;}#sk-container-id-1 div.sk-label label {font-family: monospace;font-weight: bold;display: inline-block;line-height: 1.2em;}#sk-container-id-1 div.sk-label-container {text-align: center;}#sk-container-id-1 div.sk-container {/* jupyter's `normalize.less` sets `[hidden] { display: none; }` but bootstrap.min.css set `[hidden] { display: none !important; }` so we also need the `!important` here to be able to override the default hidden behavior on the sphinx rendered scikit-learn.org. See: https://github.com/scikit-learn/scikit-learn/issues/21755 */display: inline-block !important;position: relative;}#sk-container-id-1 div.sk-text-repr-fallback {display: none;}</style><div id=\"sk-container-id-1\" class=\"sk-top-container\"><div class=\"sk-text-repr-fallback\"><pre>Pipeline(steps=[(&#x27;tfidf&#x27;, TfidfVectorizer(stop_words=&#x27;english&#x27;)),\n",
       "                (&#x27;clf&#x27;,\n",
       "                 MultiOutputClassifier(estimator=RandomForestClassifier()))])</pre><b>In a Jupyter environment, please rerun this cell to show the HTML representation or trust the notebook. <br />On GitHub, the HTML representation is unable to render, please try loading this page with nbviewer.org.</b></div><div class=\"sk-container\" hidden><div class=\"sk-item sk-dashed-wrapped\"><div class=\"sk-label-container\"><div class=\"sk-label sk-toggleable\"><input class=\"sk-toggleable__control sk-hidden--visually\" id=\"sk-estimator-id-1\" type=\"checkbox\" ><label for=\"sk-estimator-id-1\" class=\"sk-toggleable__label sk-toggleable__label-arrow\">Pipeline</label><div class=\"sk-toggleable__content\"><pre>Pipeline(steps=[(&#x27;tfidf&#x27;, TfidfVectorizer(stop_words=&#x27;english&#x27;)),\n",
       "                (&#x27;clf&#x27;,\n",
       "                 MultiOutputClassifier(estimator=RandomForestClassifier()))])</pre></div></div></div><div class=\"sk-serial\"><div class=\"sk-item\"><div class=\"sk-estimator sk-toggleable\"><input class=\"sk-toggleable__control sk-hidden--visually\" id=\"sk-estimator-id-2\" type=\"checkbox\" ><label for=\"sk-estimator-id-2\" class=\"sk-toggleable__label sk-toggleable__label-arrow\">TfidfVectorizer</label><div class=\"sk-toggleable__content\"><pre>TfidfVectorizer(stop_words=&#x27;english&#x27;)</pre></div></div></div><div class=\"sk-item sk-dashed-wrapped\"><div class=\"sk-label-container\"><div class=\"sk-label sk-toggleable\"><input class=\"sk-toggleable__control sk-hidden--visually\" id=\"sk-estimator-id-3\" type=\"checkbox\" ><label for=\"sk-estimator-id-3\" class=\"sk-toggleable__label sk-toggleable__label-arrow\">clf: MultiOutputClassifier</label><div class=\"sk-toggleable__content\"><pre>MultiOutputClassifier(estimator=RandomForestClassifier())</pre></div></div></div><div class=\"sk-parallel\"><div class=\"sk-parallel-item\"><div class=\"sk-item\"><div class=\"sk-label-container\"><div class=\"sk-label sk-toggleable\"><input class=\"sk-toggleable__control sk-hidden--visually\" id=\"sk-estimator-id-4\" type=\"checkbox\" ><label for=\"sk-estimator-id-4\" class=\"sk-toggleable__label sk-toggleable__label-arrow\">estimator: RandomForestClassifier</label><div class=\"sk-toggleable__content\"><pre>RandomForestClassifier()</pre></div></div></div><div class=\"sk-serial\"><div class=\"sk-item\"><div class=\"sk-estimator sk-toggleable\"><input class=\"sk-toggleable__control sk-hidden--visually\" id=\"sk-estimator-id-5\" type=\"checkbox\" ><label for=\"sk-estimator-id-5\" class=\"sk-toggleable__label sk-toggleable__label-arrow\">RandomForestClassifier</label><div class=\"sk-toggleable__content\"><pre>RandomForestClassifier()</pre></div></div></div></div></div></div></div></div></div></div></div></div>"
      ]
     },
     "execution_count": 17,
     "metadata": {},
     "output_type": "execute_result"
    }
   ],
   "execution_count": 17
  },
  {
   "cell_type": "markdown",
   "source": [
    "E finalizando com a avaliação do modelo\n"
   ],
   "metadata": {
    "id": "H9osgilhvl86"
   },
   "id": "H9osgilhvl86"
  },
  {
   "cell_type": "code",
   "id": "46d5a48a3b949808",
   "metadata": {
    "id": "46d5a48a3b949808",
    "ExecuteTime": {
     "end_time": "2024-04-26T14:30:57.835189Z",
     "start_time": "2024-04-26T14:26:26.143751Z"
    }
   },
   "source": [
    "y_pred_rf = pipeline_rf.predict(X_test)\n",
    "print(classification_report(y_test, y_pred_rf, target_names=genre_labels))"
   ],
   "outputs": [
    {
     "name": "stdout",
     "output_type": "stream",
     "text": [
      "                                          precision    recall  f1-score   support\n",
      "\n",
      "                               Absurdism       0.00      0.00      0.00        18\n",
      "                            Acid western       0.00      0.00      0.00         2\n",
      "                                  Action       0.70      0.01      0.02      1168\n",
      "                           Action Comedy       0.00      0.00      0.00        34\n",
      "                        Action Thrillers       0.00      0.00      0.00        75\n",
      "                        Action/Adventure       0.00      0.00      0.00       677\n",
      "                         Addiction Drama       0.00      0.00      0.00         8\n",
      "                                   Adult       0.00      0.00      0.00        19\n",
      "                               Adventure       0.00      0.00      0.00       625\n",
      "                        Adventure Comedy       0.00      0.00      0.00        20\n",
      "                  Airplanes and airports       0.00      0.00      0.00        13\n",
      "                             Albino bias       0.00      0.00      0.00         3\n",
      "                              Alien Film       0.00      0.00      0.00        21\n",
      "                          Alien invasion       0.00      0.00      0.00         1\n",
      "                               Americana       0.00      0.00      0.00        24\n",
      "                          Animal Picture       0.00      0.00      0.00        20\n",
      "                                 Animals       0.00      0.00      0.00         2\n",
      "                        Animated Musical       0.00      0.00      0.00         9\n",
      "                        Animated cartoon       0.00      0.00      0.00        17\n",
      "                               Animation       0.88      0.12      0.20       511\n",
      "                                   Anime       0.00      0.00      0.00        62\n",
      "                               Anthology       0.00      0.00      0.00         1\n",
      "                            Anthropology       0.00      0.00      0.00         1\n",
      "                                Anti-war       0.00      0.00      0.00         6\n",
      "                           Anti-war film       0.00      0.00      0.00         6\n",
      "Apocalyptic and post-apocalyptic fiction       0.00      0.00      0.00         7\n",
      "                             Archaeology       0.00      0.00      0.00         2\n",
      "                    Archives and records       0.00      0.00      0.00         0\n",
      "                                Art film       0.00      0.00      0.00        73\n",
      "                             Auto racing       0.00      0.00      0.00        13\n",
      "                             Avant-garde       0.00      0.00      0.00        17\n",
      "                               B-Western       0.00      0.00      0.00         4\n",
      "                                 B-movie       0.00      0.00      0.00        72\n",
      "                       Backstage Musical       0.00      0.00      0.00         3\n",
      "                                Baseball       0.00      0.00      0.00         1\n",
      "                              Beach Film       0.00      0.00      0.00         5\n",
      "                        Beach Party film       0.00      0.00      0.00         0\n",
      "                          Bengali Cinema       0.00      0.00      0.00         3\n",
      "                              Biker Film       0.00      0.00      0.00         9\n",
      "                       Biographical film       0.00      0.00      0.00       117\n",
      "                               Biography       0.00      0.00      0.00       102\n",
      "                        Biopic [feature]       0.00      0.00      0.00        74\n",
      "                            Black comedy       0.00      0.00      0.00       174\n",
      "                         Black-and-white       0.94      0.10      0.18       756\n",
      "                          Blaxploitation       0.00      0.00      0.00        12\n",
      "                Bloopers & Candid Camera       0.00      0.00      0.00         0\n",
      "                               Bollywood       0.00      0.00      0.00       216\n",
      "                                  Boxing       0.00      0.00      0.00        15\n",
      "                              Breakdance       0.00      0.00      0.00         0\n",
      "                     British Empire Film       0.00      0.00      0.00         2\n",
      "                        British New Wave       0.00      0.00      0.00         2\n",
      "                         Bruceploitation       0.00      0.00      0.00         0\n",
      "                           Buddy Picture       0.00      0.00      0.00         0\n",
      "                               Buddy cop       0.00      0.00      0.00         1\n",
      "                              Buddy film       0.00      0.00      0.00        68\n",
      "                                Business       0.00      0.00      0.00         2\n",
      "                                 C-Movie       0.00      0.00      0.00         0\n",
      "                                    Camp       0.00      0.00      0.00         1\n",
      "                             Caper story       0.00      0.00      0.00        23\n",
      "                            Cavalry Film       0.00      0.00      0.00         2\n",
      "                             Chase Movie       0.00      0.00      0.00        18\n",
      "                             Chick flick       0.00      0.00      0.00         0\n",
      "                         Childhood Drama       0.00      0.00      0.00        22\n",
      "                              Children's       0.00      0.00      0.00        85\n",
      "                Children's Entertainment       0.00      0.00      0.00         0\n",
      "                      Children's Fantasy       0.00      0.00      0.00        52\n",
      "                       Children's Issues       0.00      0.00      0.00         0\n",
      "                       Children's/Family       1.00      0.01      0.01       156\n",
      "                          Chinese Movies       0.92      0.18      0.30       198\n",
      "                          Christian film       0.00      0.00      0.00        18\n",
      "                         Christmas movie       0.00      0.00      0.00        16\n",
      "                          Clay animation       0.00      0.00      0.00         2\n",
      "                                Cold War       0.00      0.00      0.00         3\n",
      "                            Combat Films       0.00      0.00      0.00        10\n",
      "                                 Comdedy       0.00      0.00      0.00         1\n",
      "                                  Comedy       0.87      0.03      0.06      2126\n",
      "                         Comedy Thriller       0.00      0.00      0.00        11\n",
      "                          Comedy Western       0.00      0.00      0.00        10\n",
      "                             Comedy film       1.00      0.00      0.01       345\n",
      "                           Comedy horror       0.00      0.00      0.00         3\n",
      "                        Comedy of Errors       0.00      0.00      0.00        24\n",
      "                       Comedy of manners       0.00      0.00      0.00        45\n",
      "                            Comedy-drama       0.00      0.00      0.00       269\n",
      "                           Coming of age       0.00      0.00      0.00       157\n",
      "                      Coming-of-age film       0.00      0.00      0.00         1\n",
      "                      Computer Animation       0.00      0.00      0.00        46\n",
      "                               Computers       0.00      0.00      0.00         1\n",
      "                            Concert film       0.00      0.00      0.00         3\n",
      "                      Conspiracy fiction       0.00      0.00      0.00         1\n",
      "                       Costume Adventure       0.00      0.00      0.00         9\n",
      "                          Costume Horror       0.00      0.00      0.00        11\n",
      "                           Costume drama       0.00      0.00      0.00        72\n",
      "                        Courtroom Comedy       0.00      0.00      0.00         3\n",
      "                         Courtroom Drama       0.00      0.00      0.00        42\n",
      "                           Creature Film       0.00      0.00      0.00        77\n",
      "                                   Crime       0.00      0.00      0.00         3\n",
      "                            Crime Comedy       0.00      0.00      0.00        46\n",
      "                             Crime Drama       0.00      0.00      0.00        83\n",
      "                           Crime Fiction       0.00      0.00      0.00       879\n",
      "                          Crime Thriller       0.00      0.00      0.00       351\n",
      "                                    Cult       0.00      0.00      0.00       152\n",
      "                       Culture & Society       0.00      0.00      0.00        36\n",
      "                               Cyberpunk       0.00      0.00      0.00         2\n",
      "                   Czechoslovak New Wave       0.00      0.00      0.00         4\n",
      "                                   Dance       0.00      0.00      0.00        14\n",
      "                           Demonic child       0.00      0.00      0.00         0\n",
      "                               Detective       0.00      0.00      0.00        65\n",
      "                       Detective fiction       0.00      0.00      0.00        48\n",
      "                                Disaster       0.00      0.00      0.00        43\n",
      "                               Docudrama       0.00      0.00      0.00        50\n",
      "                             Documentary       0.71      0.02      0.04       224\n",
      "                                Dogme 95       0.00      0.00      0.00         3\n",
      "                         Domestic Comedy       0.00      0.00      0.00        40\n",
      "                           Doomsday film       0.00      0.00      0.00        24\n",
      "                                   Drama       0.69      0.58      0.63      3829\n",
      "                                Dystopia       0.00      0.00      0.00        12\n",
      "                         Ealing Comedies       0.00      0.00      0.00         1\n",
      "                      Early Black Cinema       0.00      0.00      0.00         0\n",
      "                               Education       0.00      0.00      0.00         1\n",
      "                             Educational       0.00      0.00      0.00         4\n",
      "                           Ensemble Film       0.00      0.00      0.00        73\n",
      "                   Environmental Science       0.00      0.00      0.00         0\n",
      "                                    Epic       0.00      0.00      0.00        44\n",
      "                            Epic Western       0.00      0.00      0.00         1\n",
      "                            Erotic Drama       0.00      0.00      0.00        34\n",
      "                         Erotic thriller       0.00      0.00      0.00        33\n",
      "                                 Erotica       1.00      0.02      0.05        41\n",
      "                             Escape Film       0.00      0.00      0.00         6\n",
      "                              Essay Film       0.00      0.00      0.00         1\n",
      "                          Existentialism       0.00      0.00      0.00         8\n",
      "                       Experimental film       0.00      0.00      0.00        23\n",
      "                            Exploitation       0.00      0.00      0.00         3\n",
      "                           Expressionism       0.00      0.00      0.00         0\n",
      "                          Extreme Sports       0.00      0.00      0.00         3\n",
      "                              Fairy tale       0.00      0.00      0.00        14\n",
      "         Family & Personal Relationships       0.00      0.00      0.00         1\n",
      "                            Family Drama       0.00      0.00      0.00       157\n",
      "                             Family Film       0.91      0.03      0.06       642\n",
      "               Family-Oriented Adventure       0.00      0.00      0.00        39\n",
      "                                Fan film       0.00      0.00      0.00         3\n",
      "                                 Fantasy       0.00      0.00      0.00       385\n",
      "                       Fantasy Adventure       0.00      0.00      0.00        39\n",
      "                          Fantasy Comedy       0.00      0.00      0.00        40\n",
      "                           Fantasy Drama       0.00      0.00      0.00         2\n",
      "                            Feature film       0.00      0.00      0.00         1\n",
      "                       Female buddy film       0.00      0.00      0.00         2\n",
      "                           Feminist Film       0.00      0.00      0.00        16\n",
      "                          Fictional film       0.00      0.00      0.00         4\n",
      "                                Filipino       0.00      0.00      0.00         2\n",
      "                         Filipino Movies       0.00      0.00      0.00        40\n",
      "                                    Film       0.00      0.00      0.00         4\n",
      "               Film & Television History       0.00      0.00      0.00         1\n",
      "                         Film adaptation       0.00      0.00      0.00       254\n",
      "                               Film noir       0.00      0.00      0.00       101\n",
      "                             Film à clef       0.00      0.00      0.00         8\n",
      "                              Film-Opera       0.00      0.00      0.00         1\n",
      "                             Filmed Play       0.00      0.00      0.00         0\n",
      "                     Finance & Investing       0.00      0.00      0.00         0\n",
      "                          Foreign legion       0.00      0.00      0.00         3\n",
      "                             Future noir       0.00      0.00      0.00         7\n",
      "                           Gangster Film       0.00      0.00      0.00        76\n",
      "                                     Gay       0.00      0.00      0.00        55\n",
      "                            Gay Interest       0.00      0.00      0.00        54\n",
      "                              Gay Themed       0.00      0.00      0.00        63\n",
      "                         Gay pornography       0.00      0.00      0.00         4\n",
      "                           Gender Issues       0.00      0.00      0.00         3\n",
      "                                  Giallo       0.00      0.00      0.00         9\n",
      "                     Glamorized Spy Film       0.00      0.00      0.00         9\n",
      "                              Goat gland       0.00      0.00      0.00         1\n",
      "                             Gothic Film       0.00      0.00      0.00        11\n",
      "                  Graphic & Applied Arts       0.00      0.00      0.00         1\n",
      "                               Gross out       0.00      0.00      0.00        14\n",
      "                          Gross-out film       0.00      0.00      0.00        14\n",
      "                                Gulf War       0.00      0.00      0.00         1\n",
      "                             Hagiography       0.00      0.00      0.00         4\n",
      "                    Hardcore pornography       0.00      0.00      0.00         1\n",
      "                      Haunted House Film       0.00      0.00      0.00         9\n",
      "                        Health & Fitness       0.00      0.00      0.00         0\n",
      "               Heaven-Can-Wait Fantasies       0.00      0.00      0.00         3\n",
      "                         Heavenly Comedy       0.00      0.00      0.00         5\n",
      "                                   Heist       0.00      0.00      0.00        35\n",
      "                          Hip hop movies       0.00      0.00      0.00         5\n",
      "                Historical Documentaries       0.00      0.00      0.00         0\n",
      "                         Historical Epic       0.00      0.00      0.00        14\n",
      "                        Historical drama       0.00      0.00      0.00        27\n",
      "                      Historical fiction       0.00      0.00      0.00        59\n",
      "                                 History       0.00      0.00      0.00        83\n",
      "                            Holiday Film       0.00      0.00      0.00        24\n",
      "                           Homoeroticism       0.00      0.00      0.00         0\n",
      "                                  Horror       0.97      0.07      0.13       826\n",
      "                           Horror Comedy       0.00      0.00      0.00        48\n",
      "                            Horse racing       0.00      0.00      0.00         0\n",
      "                                  Humour       0.00      0.00      0.00         0\n",
      "                          Hybrid Western       0.00      0.00      0.00         8\n",
      "                Illnesses & Disabilities       0.00      0.00      0.00         1\n",
      "                          Indian Western       0.00      0.00      0.00         3\n",
      "                                   Indie       0.00      0.00      0.00       771\n",
      "                     Inspirational Drama       0.00      0.00      0.00         4\n",
      "                      Instrumental Music       0.00      0.00      0.00         2\n",
      "             Interpersonal Relationships       0.00      0.00      0.00         4\n",
      "                Inventions & Innovations       0.00      0.00      0.00         0\n",
      "                         Japanese Movies       0.86      0.17      0.29       252\n",
      "                              Journalism       0.00      0.00      0.00         1\n",
      "                         Jukebox musical       0.00      0.00      0.00         1\n",
      "                             Jungle Film       0.00      0.00      0.00        10\n",
      "               Juvenile Delinquency Film       0.00      0.00      0.00         5\n",
      "                              Kafkaesque       0.00      0.00      0.00         1\n",
      "                    Kitchen sink realism       0.00      0.00      0.00         3\n",
      "                                    LGBT       0.00      0.00      0.00       168\n",
      "                   Language & Literature       0.00      0.00      0.00         1\n",
      "                                  Latino       0.00      0.00      0.00         0\n",
      "                             Law & Crime       0.00      0.00      0.00         1\n",
      "                             Legal drama       0.00      0.00      0.00         2\n",
      "                Libraries and librarians       0.00      0.00      0.00         0\n",
      "                             Linguistics       0.00      0.00      0.00         1\n",
      "                             Live action       0.00      0.00      0.00         0\n",
      "                        Malayalam Cinema       0.00      0.00      0.00         5\n",
      "                          Marriage Drama       0.00      0.00      0.00        25\n",
      "                       Martial Arts Film       0.00      0.00      0.00       147\n",
      "                   Master Criminal Films       0.00      0.00      0.00         6\n",
      "                            Media Satire       0.00      0.00      0.00        16\n",
      "                           Media Studies       0.00      0.00      0.00         2\n",
      "                         Medical fiction       0.00      0.00      0.00        11\n",
      "                               Melodrama       0.00      0.00      0.00       117\n",
      "                            Mockumentary       0.00      0.00      0.00        26\n",
      "                              Mondo film       0.00      0.00      0.00         0\n",
      "                                 Monster       0.00      0.00      0.00        22\n",
      "                           Monster movie       0.00      0.00      0.00        37\n",
      "                            Movie serial       0.00      0.00      0.00         1\n",
      "                 Movies About Gladiators       0.00      0.00      0.00         1\n",
      "                              Mumblecore       0.00      0.00      0.00         2\n",
      "                                   Music       0.00      0.00      0.00        64\n",
      "                                 Musical       0.50      0.00      0.00       451\n",
      "                           Musical Drama       0.00      0.00      0.00        23\n",
      "                          Musical comedy       0.00      0.00      0.00        34\n",
      "                                 Mystery       0.00      0.00      0.00       440\n",
      "                    Mythological Fantasy       0.00      0.00      0.00         4\n",
      "                        Natural disaster       0.00      0.00      0.00         3\n",
      "                    Natural horror films       0.00      0.00      0.00        31\n",
      "                                  Nature       0.00      0.00      0.00         2\n",
      "                                Neo-noir       0.00      0.00      0.00         9\n",
      "                              Neorealism       0.00      0.00      0.00         0\n",
      "                           New Hollywood       0.00      0.00      0.00        17\n",
      "                        New Queer Cinema       0.00      0.00      0.00         1\n",
      "                                    News       0.00      0.00      0.00         1\n",
      "                             Ninja movie       0.00      0.00      0.00         0\n",
      "                                Northern       0.00      0.00      0.00         3\n",
      "                         Nuclear warfare       0.00      0.00      0.00         1\n",
      "                                Operetta       0.00      0.00      0.00         0\n",
      "                                  Outlaw       0.00      0.00      0.00         2\n",
      "                       Outlaw biker film       0.00      0.00      0.00         5\n",
      "              Parkour in popular culture       0.00      0.00      0.00         0\n",
      "                                  Parody       0.00      0.00      0.00       165\n",
      "                          Patriotic film       0.00      0.00      0.00         0\n",
      "                           Period Horror       0.00      0.00      0.00         0\n",
      "                            Period piece       0.00      0.00      0.00       265\n",
      "                              Pinku eiga       0.00      0.00      0.00         3\n",
      "                                  Plague       0.00      0.00      0.00         2\n",
      "                      Point of view shot       0.00      0.00      0.00         0\n",
      "                    Political Documetary       0.00      0.00      0.00         0\n",
      "                        Political cinema       0.00      0.00      0.00        40\n",
      "                         Political drama       0.00      0.00      0.00       138\n",
      "                        Political satire       0.00      0.00      0.00        13\n",
      "                      Political thriller       0.00      0.00      0.00        47\n",
      "                      Pornographic movie       0.00      0.00      0.00        27\n",
      "                             Pornography       0.00      0.00      0.00         4\n",
      "                                Pre-Code       0.00      0.00      0.00        30\n",
      "                                  Prison       0.00      0.00      0.00        26\n",
      "                           Prison escape       0.00      0.00      0.00         0\n",
      "                             Prison film       0.00      0.00      0.00         2\n",
      "                Private military company       0.00      0.00      0.00         1\n",
      "                         Propaganda film       0.00      0.00      0.00        13\n",
      "                            Psycho-biddy       0.00      0.00      0.00         5\n",
      "                    Psychological horror       0.00      0.00      0.00         0\n",
      "                  Psychological thriller       0.00      0.00      0.00       225\n",
      "                               Punk rock       0.00      0.00      0.00         6\n",
      "                              Race movie       0.00      0.00      0.00         1\n",
      "                                  Reboot       0.00      0.00      0.00         2\n",
      "                          Religious Film       0.00      0.00      0.00        11\n",
      "                                  Remake       0.00      0.00      0.00        17\n",
      "                                 Revenge       0.00      0.00      0.00         0\n",
      "                  Revisionist Fairy Tale       0.00      0.00      0.00         1\n",
      "                     Revisionist Western       0.00      0.00      0.00         8\n",
      "                              Road movie       0.00      0.00      0.00        55\n",
      "                             Road-Horror       0.00      0.00      0.00         2\n",
      "             Roadshow theatrical release       0.00      0.00      0.00         6\n",
      "                          Roadshow/Carny       0.00      0.00      0.00         1\n",
      "                            Rockumentary       0.00      0.00      0.00         9\n",
      "                            Romance Film       1.00      0.00      0.01      1348\n",
      "                         Romantic comedy       0.00      0.00      0.00       435\n",
      "                          Romantic drama       0.00      0.00      0.00       511\n",
      "                        Romantic fantasy       0.00      0.00      0.00         6\n",
      "                       Romantic thriller       0.00      0.00      0.00         0\n",
      "                          Samurai cinema       0.00      0.00      0.00         5\n",
      "                                  Satire       0.00      0.00      0.00       112\n",
      "                            School story       0.00      0.00      0.00         0\n",
      "          Sci Fi Pictures original films       0.00      0.00      0.00         0\n",
      "                        Sci-Fi Adventure       0.00      0.00      0.00         6\n",
      "                           Sci-Fi Horror       0.00      0.00      0.00        24\n",
      "                         Sci-Fi Thriller       0.00      0.00      0.00         1\n",
      "                         Science Fiction       0.85      0.06      0.12       457\n",
      "                 Science fiction Western       0.00      0.00      0.00         1\n",
      "                        Screwball comedy       0.00      0.00      0.00        53\n",
      "                              Sex comedy       0.00      0.00      0.00        59\n",
      "                           Sexploitation       0.00      0.00      0.00        21\n",
      "                              Short Film       0.93      0.23      0.37       623\n",
      "                             Silent film       1.00      0.02      0.03       247\n",
      "                    Silhouette animation       0.00      0.00      0.00         0\n",
      "                          Singing cowboy       0.00      0.00      0.00         1\n",
      "                               Slapstick       1.00      0.01      0.02       108\n",
      "                                 Slasher       0.00      0.00      0.00       143\n",
      "                     Slice of life story       0.00      0.00      0.00        14\n",
      "                           Social issues       0.00      0.00      0.00        22\n",
      "                     Social problem film       0.00      0.00      0.00        16\n",
      "                           Softcore Porn       0.00      0.00      0.00         6\n",
      "                             Space opera       0.00      0.00      0.00         2\n",
      "                           Space western       0.00      0.00      0.00         5\n",
      "                       Spaghetti Western       0.00      0.00      0.00        10\n",
      "                           Splatter film       0.00      0.00      0.00         8\n",
      "                          Sponsored film       0.00      0.00      0.00         1\n",
      "                                  Sports       0.00      0.00      0.00       146\n",
      "                                     Spy       0.00      0.00      0.00        69\n",
      "                         Stand-up comedy       0.00      0.00      0.00         2\n",
      "                            Star vehicle       0.00      0.00      0.00         1\n",
      "                          Statutory rape       0.00      0.00      0.00         0\n",
      "                               Steampunk       0.00      0.00      0.00         7\n",
      "                             Stoner film       0.00      0.00      0.00        14\n",
      "                             Stop motion       0.00      0.00      0.00        29\n",
      "                               Superhero       0.00      0.00      0.00        24\n",
      "                         Superhero movie       0.00      0.00      0.00        52\n",
      "                        Supermarionation       0.00      0.00      0.00         1\n",
      "                            Supernatural       0.00      0.00      0.00       110\n",
      "                              Surrealism       0.00      0.00      0.00        22\n",
      "                                Suspense       0.00      0.00      0.00       132\n",
      "                      Swashbuckler films       0.00      0.00      0.00        15\n",
      "                        Sword and Sandal       0.00      0.00      0.00         3\n",
      "                       Sword and sorcery       0.00      0.00      0.00         4\n",
      "                 Sword and sorcery films       0.00      0.00      0.00         8\n",
      "                            Tamil cinema       0.00      0.00      0.00        18\n",
      "                                    Teen       0.00      0.00      0.00       171\n",
      "                        Television movie       0.00      0.00      0.00       136\n",
      "         The Netherlands in World War II       0.00      0.00      0.00         0\n",
      "                          Therimin music       0.00      0.00      0.00         1\n",
      "                                Thriller       1.00      0.01      0.01      1347\n",
      "                             Time travel       0.00      0.00      0.00        15\n",
      "                               Tokusatsu       0.00      0.00      0.00         0\n",
      "                               Tollywood       0.00      0.00      0.00         6\n",
      "                                 Tragedy       0.00      0.00      0.00        12\n",
      "                             Tragicomedy       0.00      0.00      0.00        10\n",
      "                                  Travel       0.00      0.00      0.00         2\n",
      "                          Vampire movies       0.00      0.00      0.00         2\n",
      "                              War effort       0.00      0.00      0.00         0\n",
      "                                War film       1.00      0.00      0.01       322\n",
      "                        Werewolf fiction       0.00      0.00      0.00         1\n",
      "                                 Western       1.00      0.06      0.11       205\n",
      "                                Whodunit       0.00      0.00      0.00         9\n",
      "                   Women in prison films       0.00      0.00      0.00         4\n",
      "                        Workplace Comedy       0.00      0.00      0.00        15\n",
      "                           World History       0.00      0.00      0.00         1\n",
      "                            World cinema       0.00      0.00      0.00      1033\n",
      "                                   Wuxia       0.00      0.00      0.00        12\n",
      "                                 Z movie       0.00      0.00      0.00         0\n",
      "                             Zombie Film       0.00      0.00      0.00        47\n",
      "\n",
      "                               micro avg       0.73      0.09      0.16     30490\n",
      "                               macro avg       0.05      0.00      0.01     30490\n",
      "                            weighted avg       0.45      0.09      0.11     30490\n",
      "                             samples avg       0.31      0.13      0.16     30490\n",
      "\n"
     ]
    },
    {
     "name": "stderr",
     "output_type": "stream",
     "text": [
      "C:\\Users\\Pe4\\anaconda3\\Lib\\site-packages\\sklearn\\metrics\\_classification.py:1344: UndefinedMetricWarning: Precision and F-score are ill-defined and being set to 0.0 in labels with no predicted samples. Use `zero_division` parameter to control this behavior.\n",
      "  _warn_prf(average, modifier, msg_start, len(result))\n",
      "C:\\Users\\Pe4\\anaconda3\\Lib\\site-packages\\sklearn\\metrics\\_classification.py:1344: UndefinedMetricWarning: Recall and F-score are ill-defined and being set to 0.0 in labels with no true samples. Use `zero_division` parameter to control this behavior.\n",
      "  _warn_prf(average, modifier, msg_start, len(result))\n",
      "C:\\Users\\Pe4\\anaconda3\\Lib\\site-packages\\sklearn\\metrics\\_classification.py:1344: UndefinedMetricWarning: Precision and F-score are ill-defined and being set to 0.0 in samples with no predicted labels. Use `zero_division` parameter to control this behavior.\n",
      "  _warn_prf(average, modifier, msg_start, len(result))\n",
      "C:\\Users\\Pe4\\anaconda3\\Lib\\site-packages\\sklearn\\metrics\\_classification.py:1344: UndefinedMetricWarning: Recall and F-score are ill-defined and being set to 0.0 in samples with no true labels. Use `zero_division` parameter to control this behavior.\n",
      "  _warn_prf(average, modifier, msg_start, len(result))\n"
     ]
    }
   ],
   "execution_count": 18
  },
  {
   "cell_type": "markdown",
   "source": [
    "## 4.2 - Treinamento e Classificação DecisionTreeClassifier\n",
    "\n",
    "\n",
    "O DecisionTreeClassifier é um algoritmo de aprendizado de máquina supervisionado usado principalmente para tarefas de classificação. Ele cria uma árvore de decisão que modela as decisões com base nos recursos de entrada fornecidos.\n",
    "\n",
    "A seguir, será iniciado a construção do pipeline de classificação com DecisionTreeClassifier\n"
   ],
   "metadata": {
    "id": "nXFmPOk_0IsF"
   },
   "id": "nXFmPOk_0IsF"
  },
  {
   "metadata": {
    "ExecuteTime": {
     "end_time": "2024-04-26T14:30:57.847464Z",
     "start_time": "2024-04-26T14:30:57.837205Z"
    }
   },
   "cell_type": "code",
   "source": [
    "pipeline_dt = Pipeline([\n",
    "    ('tfidf', TfidfVectorizer(stop_words='english')),\n",
    "    ('clf', MultiOutputClassifier(DecisionTreeClassifier()))\n",
    "])"
   ],
   "id": "3c4722af4682da3b",
   "outputs": [],
   "execution_count": 19
  },
  {
   "cell_type": "markdown",
   "source": "Seguido pelo treinamento do Modelo",
   "metadata": {
    "id": "AhmoS7jn0R7q"
   },
   "id": "AhmoS7jn0R7q"
  },
  {
   "metadata": {
    "ExecuteTime": {
     "end_time": "2024-04-26T19:31:43.284377Z",
     "start_time": "2024-04-26T14:30:57.855440Z"
    }
   },
   "cell_type": "code",
   "source": "pipeline_dt.fit(X_train, y_train)",
   "id": "5f9b247fcad10c80",
   "outputs": [
    {
     "data": {
      "text/plain": [
       "Pipeline(steps=[('tfidf', TfidfVectorizer(stop_words='english')),\n",
       "                ('clf',\n",
       "                 MultiOutputClassifier(estimator=DecisionTreeClassifier()))])"
      ],
      "text/html": [
       "<style>#sk-container-id-2 {color: black;background-color: white;}#sk-container-id-2 pre{padding: 0;}#sk-container-id-2 div.sk-toggleable {background-color: white;}#sk-container-id-2 label.sk-toggleable__label {cursor: pointer;display: block;width: 100%;margin-bottom: 0;padding: 0.3em;box-sizing: border-box;text-align: center;}#sk-container-id-2 label.sk-toggleable__label-arrow:before {content: \"▸\";float: left;margin-right: 0.25em;color: #696969;}#sk-container-id-2 label.sk-toggleable__label-arrow:hover:before {color: black;}#sk-container-id-2 div.sk-estimator:hover label.sk-toggleable__label-arrow:before {color: black;}#sk-container-id-2 div.sk-toggleable__content {max-height: 0;max-width: 0;overflow: hidden;text-align: left;background-color: #f0f8ff;}#sk-container-id-2 div.sk-toggleable__content pre {margin: 0.2em;color: black;border-radius: 0.25em;background-color: #f0f8ff;}#sk-container-id-2 input.sk-toggleable__control:checked~div.sk-toggleable__content {max-height: 200px;max-width: 100%;overflow: auto;}#sk-container-id-2 input.sk-toggleable__control:checked~label.sk-toggleable__label-arrow:before {content: \"▾\";}#sk-container-id-2 div.sk-estimator input.sk-toggleable__control:checked~label.sk-toggleable__label {background-color: #d4ebff;}#sk-container-id-2 div.sk-label input.sk-toggleable__control:checked~label.sk-toggleable__label {background-color: #d4ebff;}#sk-container-id-2 input.sk-hidden--visually {border: 0;clip: rect(1px 1px 1px 1px);clip: rect(1px, 1px, 1px, 1px);height: 1px;margin: -1px;overflow: hidden;padding: 0;position: absolute;width: 1px;}#sk-container-id-2 div.sk-estimator {font-family: monospace;background-color: #f0f8ff;border: 1px dotted black;border-radius: 0.25em;box-sizing: border-box;margin-bottom: 0.5em;}#sk-container-id-2 div.sk-estimator:hover {background-color: #d4ebff;}#sk-container-id-2 div.sk-parallel-item::after {content: \"\";width: 100%;border-bottom: 1px solid gray;flex-grow: 1;}#sk-container-id-2 div.sk-label:hover label.sk-toggleable__label {background-color: #d4ebff;}#sk-container-id-2 div.sk-serial::before {content: \"\";position: absolute;border-left: 1px solid gray;box-sizing: border-box;top: 0;bottom: 0;left: 50%;z-index: 0;}#sk-container-id-2 div.sk-serial {display: flex;flex-direction: column;align-items: center;background-color: white;padding-right: 0.2em;padding-left: 0.2em;position: relative;}#sk-container-id-2 div.sk-item {position: relative;z-index: 1;}#sk-container-id-2 div.sk-parallel {display: flex;align-items: stretch;justify-content: center;background-color: white;position: relative;}#sk-container-id-2 div.sk-item::before, #sk-container-id-2 div.sk-parallel-item::before {content: \"\";position: absolute;border-left: 1px solid gray;box-sizing: border-box;top: 0;bottom: 0;left: 50%;z-index: -1;}#sk-container-id-2 div.sk-parallel-item {display: flex;flex-direction: column;z-index: 1;position: relative;background-color: white;}#sk-container-id-2 div.sk-parallel-item:first-child::after {align-self: flex-end;width: 50%;}#sk-container-id-2 div.sk-parallel-item:last-child::after {align-self: flex-start;width: 50%;}#sk-container-id-2 div.sk-parallel-item:only-child::after {width: 0;}#sk-container-id-2 div.sk-dashed-wrapped {border: 1px dashed gray;margin: 0 0.4em 0.5em 0.4em;box-sizing: border-box;padding-bottom: 0.4em;background-color: white;}#sk-container-id-2 div.sk-label label {font-family: monospace;font-weight: bold;display: inline-block;line-height: 1.2em;}#sk-container-id-2 div.sk-label-container {text-align: center;}#sk-container-id-2 div.sk-container {/* jupyter's `normalize.less` sets `[hidden] { display: none; }` but bootstrap.min.css set `[hidden] { display: none !important; }` so we also need the `!important` here to be able to override the default hidden behavior on the sphinx rendered scikit-learn.org. See: https://github.com/scikit-learn/scikit-learn/issues/21755 */display: inline-block !important;position: relative;}#sk-container-id-2 div.sk-text-repr-fallback {display: none;}</style><div id=\"sk-container-id-2\" class=\"sk-top-container\"><div class=\"sk-text-repr-fallback\"><pre>Pipeline(steps=[(&#x27;tfidf&#x27;, TfidfVectorizer(stop_words=&#x27;english&#x27;)),\n",
       "                (&#x27;clf&#x27;,\n",
       "                 MultiOutputClassifier(estimator=DecisionTreeClassifier()))])</pre><b>In a Jupyter environment, please rerun this cell to show the HTML representation or trust the notebook. <br />On GitHub, the HTML representation is unable to render, please try loading this page with nbviewer.org.</b></div><div class=\"sk-container\" hidden><div class=\"sk-item sk-dashed-wrapped\"><div class=\"sk-label-container\"><div class=\"sk-label sk-toggleable\"><input class=\"sk-toggleable__control sk-hidden--visually\" id=\"sk-estimator-id-6\" type=\"checkbox\" ><label for=\"sk-estimator-id-6\" class=\"sk-toggleable__label sk-toggleable__label-arrow\">Pipeline</label><div class=\"sk-toggleable__content\"><pre>Pipeline(steps=[(&#x27;tfidf&#x27;, TfidfVectorizer(stop_words=&#x27;english&#x27;)),\n",
       "                (&#x27;clf&#x27;,\n",
       "                 MultiOutputClassifier(estimator=DecisionTreeClassifier()))])</pre></div></div></div><div class=\"sk-serial\"><div class=\"sk-item\"><div class=\"sk-estimator sk-toggleable\"><input class=\"sk-toggleable__control sk-hidden--visually\" id=\"sk-estimator-id-7\" type=\"checkbox\" ><label for=\"sk-estimator-id-7\" class=\"sk-toggleable__label sk-toggleable__label-arrow\">TfidfVectorizer</label><div class=\"sk-toggleable__content\"><pre>TfidfVectorizer(stop_words=&#x27;english&#x27;)</pre></div></div></div><div class=\"sk-item sk-dashed-wrapped\"><div class=\"sk-label-container\"><div class=\"sk-label sk-toggleable\"><input class=\"sk-toggleable__control sk-hidden--visually\" id=\"sk-estimator-id-8\" type=\"checkbox\" ><label for=\"sk-estimator-id-8\" class=\"sk-toggleable__label sk-toggleable__label-arrow\">clf: MultiOutputClassifier</label><div class=\"sk-toggleable__content\"><pre>MultiOutputClassifier(estimator=DecisionTreeClassifier())</pre></div></div></div><div class=\"sk-parallel\"><div class=\"sk-parallel-item\"><div class=\"sk-item\"><div class=\"sk-label-container\"><div class=\"sk-label sk-toggleable\"><input class=\"sk-toggleable__control sk-hidden--visually\" id=\"sk-estimator-id-9\" type=\"checkbox\" ><label for=\"sk-estimator-id-9\" class=\"sk-toggleable__label sk-toggleable__label-arrow\">estimator: DecisionTreeClassifier</label><div class=\"sk-toggleable__content\"><pre>DecisionTreeClassifier()</pre></div></div></div><div class=\"sk-serial\"><div class=\"sk-item\"><div class=\"sk-estimator sk-toggleable\"><input class=\"sk-toggleable__control sk-hidden--visually\" id=\"sk-estimator-id-10\" type=\"checkbox\" ><label for=\"sk-estimator-id-10\" class=\"sk-toggleable__label sk-toggleable__label-arrow\">DecisionTreeClassifier</label><div class=\"sk-toggleable__content\"><pre>DecisionTreeClassifier()</pre></div></div></div></div></div></div></div></div></div></div></div></div>"
      ]
     },
     "execution_count": 20,
     "metadata": {},
     "output_type": "execute_result"
    }
   ],
   "execution_count": 20
  },
  {
   "cell_type": "markdown",
   "source": [
    "E finalizando com a avaliação do modelo\n"
   ],
   "metadata": {
    "id": "LwAmiueJ0Slp"
   },
   "id": "LwAmiueJ0Slp"
  },
  {
   "metadata": {
    "ExecuteTime": {
     "end_time": "2024-04-26T19:32:12.764997Z",
     "start_time": "2024-04-26T19:31:43.448934Z"
    }
   },
   "cell_type": "code",
   "source": [
    "y_pred_dt = pipeline_dt.predict(X_test)\n",
    "print(\"Relatório de Classificação:\")\n",
    "print(classification_report(y_test, y_pred_dt, target_names=genre_labels))"
   ],
   "id": "e47d21603f933e81",
   "outputs": [
    {
     "name": "stdout",
     "output_type": "stream",
     "text": [
      "Relatório de Classificação:\n"
     ]
    },
    {
     "name": "stderr",
     "output_type": "stream",
     "text": [
      "C:\\Users\\Pe4\\anaconda3\\Lib\\site-packages\\sklearn\\metrics\\_classification.py:1344: UndefinedMetricWarning: Precision and F-score are ill-defined and being set to 0.0 in labels with no predicted samples. Use `zero_division` parameter to control this behavior.\n",
      "  _warn_prf(average, modifier, msg_start, len(result))\n",
      "C:\\Users\\Pe4\\anaconda3\\Lib\\site-packages\\sklearn\\metrics\\_classification.py:1344: UndefinedMetricWarning: Recall and F-score are ill-defined and being set to 0.0 in labels with no true samples. Use `zero_division` parameter to control this behavior.\n",
      "  _warn_prf(average, modifier, msg_start, len(result))\n"
     ]
    },
    {
     "name": "stdout",
     "output_type": "stream",
     "text": [
      "                                          precision    recall  f1-score   support\n",
      "\n",
      "                               Absurdism       0.00      0.00      0.00        18\n",
      "                            Acid western       0.00      0.00      0.00         2\n",
      "                                  Action       0.33      0.32      0.32      1168\n",
      "                           Action Comedy       0.06      0.03      0.04        34\n",
      "                        Action Thrillers       0.13      0.11      0.12        75\n",
      "                        Action/Adventure       0.22      0.22      0.22       677\n",
      "                         Addiction Drama       0.00      0.00      0.00         8\n",
      "                                   Adult       0.11      0.16      0.13        19\n",
      "                               Adventure       0.25      0.24      0.25       625\n",
      "                        Adventure Comedy       0.00      0.00      0.00        20\n",
      "                  Airplanes and airports       0.20      0.08      0.11        13\n",
      "                             Albino bias       0.00      0.00      0.00         3\n",
      "                              Alien Film       0.11      0.10      0.10        21\n",
      "                          Alien invasion       0.00      0.00      0.00         1\n",
      "                               Americana       0.00      0.00      0.00        24\n",
      "                          Animal Picture       0.07      0.10      0.09        20\n",
      "                                 Animals       0.00      0.00      0.00         2\n",
      "                        Animated Musical       0.17      0.11      0.13         9\n",
      "                        Animated cartoon       0.20      0.12      0.15        17\n",
      "                               Animation       0.46      0.43      0.44       511\n",
      "                                   Anime       0.27      0.19      0.23        62\n",
      "                               Anthology       0.00      0.00      0.00         1\n",
      "                            Anthropology       0.00      0.00      0.00         1\n",
      "                                Anti-war       0.00      0.00      0.00         6\n",
      "                           Anti-war film       0.00      0.00      0.00         6\n",
      "Apocalyptic and post-apocalyptic fiction       0.00      0.00      0.00         7\n",
      "                             Archaeology       0.50      0.50      0.50         2\n",
      "                    Archives and records       0.00      0.00      0.00         0\n",
      "                                Art film       0.00      0.00      0.00        73\n",
      "                             Auto racing       0.22      0.15      0.18        13\n",
      "                             Avant-garde       0.00      0.00      0.00        17\n",
      "                               B-Western       0.00      0.00      0.00         4\n",
      "                                 B-movie       0.04      0.04      0.04        72\n",
      "                       Backstage Musical       0.00      0.00      0.00         3\n",
      "                                Baseball       0.33      1.00      0.50         1\n",
      "                              Beach Film       0.00      0.00      0.00         5\n",
      "                        Beach Party film       0.00      0.00      0.00         0\n",
      "                          Bengali Cinema       1.00      0.33      0.50         3\n",
      "                              Biker Film       0.00      0.00      0.00         9\n",
      "                       Biographical film       0.00      0.00      0.00       117\n",
      "                               Biography       0.05      0.05      0.05       102\n",
      "                        Biopic [feature]       0.00      0.00      0.00        74\n",
      "                            Black comedy       0.05      0.03      0.04       174\n",
      "                         Black-and-white       0.27      0.25      0.26       756\n",
      "                          Blaxploitation       0.07      0.08      0.08        12\n",
      "                Bloopers & Candid Camera       0.00      0.00      0.00         0\n",
      "                               Bollywood       0.27      0.21      0.24       216\n",
      "                                  Boxing       0.30      0.20      0.24        15\n",
      "                              Breakdance       0.00      0.00      0.00         0\n",
      "                     British Empire Film       0.00      0.00      0.00         2\n",
      "                        British New Wave       0.00      0.00      0.00         2\n",
      "                         Bruceploitation       0.00      0.00      0.00         0\n",
      "                           Buddy Picture       0.00      0.00      0.00         0\n",
      "                               Buddy cop       1.00      1.00      1.00         1\n",
      "                              Buddy film       0.06      0.04      0.05        68\n",
      "                                Business       0.00      0.00      0.00         2\n",
      "                                 C-Movie       0.00      0.00      0.00         0\n",
      "                                    Camp       0.00      0.00      0.00         1\n",
      "                             Caper story       0.10      0.04      0.06        23\n",
      "                            Cavalry Film       0.00      0.00      0.00         2\n",
      "                             Chase Movie       0.07      0.06      0.06        18\n",
      "                             Chick flick       0.00      0.00      0.00         0\n",
      "                         Childhood Drama       0.00      0.00      0.00        22\n",
      "                              Children's       0.10      0.09      0.09        85\n",
      "                Children's Entertainment       0.00      0.00      0.00         0\n",
      "                      Children's Fantasy       0.18      0.15      0.16        52\n",
      "                       Children's Issues       0.00      0.00      0.00         0\n",
      "                       Children's/Family       0.20      0.16      0.18       156\n",
      "                          Chinese Movies       0.53      0.51      0.52       198\n",
      "                          Christian film       0.15      0.17      0.16        18\n",
      "                         Christmas movie       0.13      0.12      0.13        16\n",
      "                          Clay animation       0.00      0.00      0.00         2\n",
      "                                Cold War       0.00      0.00      0.00         3\n",
      "                            Combat Films       0.00      0.00      0.00        10\n",
      "                                 Comdedy       0.00      0.00      0.00         1\n",
      "                                  Comedy       0.37      0.36      0.37      2126\n",
      "                         Comedy Thriller       0.00      0.00      0.00        11\n",
      "                          Comedy Western       0.00      0.00      0.00        10\n",
      "                             Comedy film       0.09      0.07      0.08       345\n",
      "                           Comedy horror       0.00      0.00      0.00         3\n",
      "                        Comedy of Errors       0.00      0.00      0.00        24\n",
      "                       Comedy of manners       0.00      0.00      0.00        45\n",
      "                            Comedy-drama       0.07      0.06      0.07       269\n",
      "                           Coming of age       0.09      0.07      0.08       157\n",
      "                      Coming-of-age film       0.00      0.00      0.00         1\n",
      "                      Computer Animation       0.16      0.09      0.11        46\n",
      "                               Computers       0.00      0.00      0.00         1\n",
      "                            Concert film       0.00      0.00      0.00         3\n",
      "                      Conspiracy fiction       0.00      0.00      0.00         1\n",
      "                       Costume Adventure       0.00      0.00      0.00         9\n",
      "                          Costume Horror       0.12      0.09      0.11        11\n",
      "                           Costume drama       0.17      0.12      0.14        72\n",
      "                        Courtroom Comedy       0.00      0.00      0.00         3\n",
      "                         Courtroom Drama       0.09      0.07      0.08        42\n",
      "                           Creature Film       0.11      0.10      0.11        77\n",
      "                                   Crime       0.00      0.00      0.00         3\n",
      "                            Crime Comedy       0.00      0.00      0.00        46\n",
      "                             Crime Drama       0.04      0.04      0.04        83\n",
      "                           Crime Fiction       0.33      0.32      0.32       879\n",
      "                          Crime Thriller       0.17      0.16      0.16       351\n",
      "                                    Cult       0.15      0.11      0.13       152\n",
      "                       Culture & Society       0.15      0.14      0.14        36\n",
      "                               Cyberpunk       0.00      0.00      0.00         2\n",
      "                   Czechoslovak New Wave       0.00      0.00      0.00         4\n",
      "                                   Dance       0.22      0.14      0.17        14\n",
      "                           Demonic child       0.00      0.00      0.00         0\n",
      "                               Detective       0.13      0.09      0.11        65\n",
      "                       Detective fiction       0.12      0.12      0.12        48\n",
      "                                Disaster       0.18      0.12      0.14        43\n",
      "                               Docudrama       0.06      0.04      0.05        50\n",
      "                             Documentary       0.44      0.43      0.43       224\n",
      "                                Dogme 95       0.00      0.00      0.00         3\n",
      "                         Domestic Comedy       0.03      0.03      0.03        40\n",
      "                           Doomsday film       0.05      0.04      0.04        24\n",
      "                                   Drama       0.55      0.55      0.55      3829\n",
      "                                Dystopia       0.12      0.08      0.10        12\n",
      "                         Ealing Comedies       0.00      0.00      0.00         1\n",
      "                      Early Black Cinema       0.00      0.00      0.00         0\n",
      "                               Education       0.00      0.00      0.00         1\n",
      "                             Educational       0.00      0.00      0.00         4\n",
      "                           Ensemble Film       0.08      0.05      0.07        73\n",
      "                   Environmental Science       0.00      0.00      0.00         0\n",
      "                                    Epic       0.26      0.11      0.16        44\n",
      "                            Epic Western       0.00      0.00      0.00         1\n",
      "                            Erotic Drama       0.00      0.00      0.00        34\n",
      "                         Erotic thriller       0.00      0.00      0.00        33\n",
      "                                 Erotica       0.17      0.17      0.17        41\n",
      "                             Escape Film       0.00      0.00      0.00         6\n",
      "                              Essay Film       0.00      0.00      0.00         1\n",
      "                          Existentialism       0.00      0.00      0.00         8\n",
      "                       Experimental film       0.00      0.00      0.00        23\n",
      "                            Exploitation       0.00      0.00      0.00         3\n",
      "                           Expressionism       0.00      0.00      0.00         0\n",
      "                          Extreme Sports       0.00      0.00      0.00         3\n",
      "                              Fairy tale       0.33      0.07      0.12        14\n",
      "         Family & Personal Relationships       0.00      0.00      0.00         1\n",
      "                            Family Drama       0.09      0.08      0.09       157\n",
      "                             Family Film       0.31      0.31      0.31       642\n",
      "               Family-Oriented Adventure       0.00      0.00      0.00        39\n",
      "                                Fan film       0.00      0.00      0.00         3\n",
      "                                 Fantasy       0.23      0.22      0.22       385\n",
      "                       Fantasy Adventure       0.12      0.08      0.09        39\n",
      "                          Fantasy Comedy       0.03      0.03      0.03        40\n",
      "                           Fantasy Drama       0.00      0.00      0.00         2\n",
      "                            Feature film       0.00      0.00      0.00         1\n",
      "                       Female buddy film       0.00      0.00      0.00         2\n",
      "                           Feminist Film       0.00      0.00      0.00        16\n",
      "                          Fictional film       0.00      0.00      0.00         4\n",
      "                                Filipino       0.00      0.00      0.00         2\n",
      "                         Filipino Movies       0.31      0.28      0.29        40\n",
      "                                    Film       0.00      0.00      0.00         4\n",
      "               Film & Television History       0.00      0.00      0.00         1\n",
      "                         Film adaptation       0.04      0.03      0.04       254\n",
      "                               Film noir       0.06      0.06      0.06       101\n",
      "                             Film à clef       0.00      0.00      0.00         8\n",
      "                              Film-Opera       0.00      0.00      0.00         1\n",
      "                             Filmed Play       0.00      0.00      0.00         0\n",
      "                     Finance & Investing       0.00      0.00      0.00         0\n",
      "                          Foreign legion       1.00      0.33      0.50         3\n",
      "                             Future noir       0.00      0.00      0.00         7\n",
      "                           Gangster Film       0.10      0.07      0.08        76\n",
      "                                     Gay       0.11      0.07      0.09        55\n",
      "                            Gay Interest       0.11      0.07      0.09        54\n",
      "                              Gay Themed       0.16      0.14      0.15        63\n",
      "                         Gay pornography       0.00      0.00      0.00         4\n",
      "                           Gender Issues       0.00      0.00      0.00         3\n",
      "                                  Giallo       0.00      0.00      0.00         9\n",
      "                     Glamorized Spy Film       0.44      0.44      0.44         9\n",
      "                              Goat gland       0.00      0.00      0.00         1\n",
      "                             Gothic Film       0.00      0.00      0.00        11\n",
      "                  Graphic & Applied Arts       0.00      0.00      0.00         1\n",
      "                               Gross out       0.22      0.14      0.17        14\n",
      "                          Gross-out film       0.15      0.14      0.15        14\n",
      "                                Gulf War       0.00      0.00      0.00         1\n",
      "                             Hagiography       0.25      0.25      0.25         4\n",
      "                    Hardcore pornography       0.00      0.00      0.00         1\n",
      "                      Haunted House Film       0.00      0.00      0.00         9\n",
      "                        Health & Fitness       0.00      0.00      0.00         0\n",
      "               Heaven-Can-Wait Fantasies       0.00      0.00      0.00         3\n",
      "                         Heavenly Comedy       0.00      0.00      0.00         5\n",
      "                                   Heist       0.04      0.03      0.03        35\n",
      "                          Hip hop movies       0.67      0.40      0.50         5\n",
      "                Historical Documentaries       0.00      0.00      0.00         0\n",
      "                         Historical Epic       0.00      0.00      0.00        14\n",
      "                        Historical drama       0.00      0.00      0.00        27\n",
      "                      Historical fiction       0.03      0.02      0.02        59\n",
      "                                 History       0.07      0.04      0.05        83\n",
      "                            Holiday Film       0.30      0.25      0.27        24\n",
      "                           Homoeroticism       0.00      0.00      0.00         0\n",
      "                                  Horror       0.47      0.44      0.46       826\n",
      "                           Horror Comedy       0.04      0.02      0.03        48\n",
      "                            Horse racing       0.00      0.00      0.00         0\n",
      "                                  Humour       0.00      0.00      0.00         0\n",
      "                          Hybrid Western       0.00      0.00      0.00         8\n",
      "                Illnesses & Disabilities       0.00      0.00      0.00         1\n",
      "                          Indian Western       0.00      0.00      0.00         3\n",
      "                                   Indie       0.16      0.15      0.15       771\n",
      "                     Inspirational Drama       0.00      0.00      0.00         4\n",
      "                      Instrumental Music       0.00      0.00      0.00         2\n",
      "             Interpersonal Relationships       0.00      0.00      0.00         4\n",
      "                Inventions & Innovations       0.00      0.00      0.00         0\n",
      "                         Japanese Movies       0.52      0.41      0.46       252\n",
      "                              Journalism       0.00      0.00      0.00         1\n",
      "                         Jukebox musical       0.00      0.00      0.00         1\n",
      "                             Jungle Film       0.21      0.30      0.25        10\n",
      "               Juvenile Delinquency Film       0.00      0.00      0.00         5\n",
      "                              Kafkaesque       0.00      0.00      0.00         1\n",
      "                    Kitchen sink realism       0.00      0.00      0.00         3\n",
      "                                    LGBT       0.27      0.27      0.27       168\n",
      "                   Language & Literature       0.00      0.00      0.00         1\n",
      "                                  Latino       0.00      0.00      0.00         0\n",
      "                             Law & Crime       0.00      0.00      0.00         1\n",
      "                             Legal drama       0.00      0.00      0.00         2\n",
      "                Libraries and librarians       0.00      0.00      0.00         0\n",
      "                             Linguistics       0.00      0.00      0.00         1\n",
      "                             Live action       0.00      0.00      0.00         0\n",
      "                        Malayalam Cinema       0.00      0.00      0.00         5\n",
      "                          Marriage Drama       0.00      0.00      0.00        25\n",
      "                       Martial Arts Film       0.45      0.33      0.38       147\n",
      "                   Master Criminal Films       0.25      0.33      0.29         6\n",
      "                            Media Satire       0.00      0.00      0.00        16\n",
      "                           Media Studies       0.00      0.00      0.00         2\n",
      "                         Medical fiction       0.00      0.00      0.00        11\n",
      "                               Melodrama       0.03      0.03      0.03       117\n",
      "                            Mockumentary       0.00      0.00      0.00        26\n",
      "                              Mondo film       0.00      0.00      0.00         0\n",
      "                                 Monster       0.40      0.36      0.38        22\n",
      "                           Monster movie       0.11      0.11      0.11        37\n",
      "                            Movie serial       0.00      0.00      0.00         1\n",
      "                 Movies About Gladiators       0.00      0.00      0.00         1\n",
      "                              Mumblecore       0.00      0.00      0.00         2\n",
      "                                   Music       0.08      0.06      0.07        64\n",
      "                                 Musical       0.17      0.17      0.17       451\n",
      "                           Musical Drama       0.03      0.04      0.04        23\n",
      "                          Musical comedy       0.00      0.00      0.00        34\n",
      "                                 Mystery       0.18      0.15      0.17       440\n",
      "                    Mythological Fantasy       0.00      0.00      0.00         4\n",
      "                        Natural disaster       0.00      0.00      0.00         3\n",
      "                    Natural horror films       0.14      0.16      0.15        31\n",
      "                                  Nature       0.00      0.00      0.00         2\n",
      "                                Neo-noir       0.00      0.00      0.00         9\n",
      "                              Neorealism       0.00      0.00      0.00         0\n",
      "                           New Hollywood       0.00      0.00      0.00        17\n",
      "                        New Queer Cinema       0.00      0.00      0.00         1\n",
      "                                    News       0.00      0.00      0.00         1\n",
      "                             Ninja movie       0.00      0.00      0.00         0\n",
      "                                Northern       0.50      0.33      0.40         3\n",
      "                         Nuclear warfare       0.00      0.00      0.00         1\n",
      "                                Operetta       0.00      0.00      0.00         0\n",
      "                                  Outlaw       0.00      0.00      0.00         2\n",
      "                       Outlaw biker film       0.00      0.00      0.00         5\n",
      "              Parkour in popular culture       0.00      0.00      0.00         0\n",
      "                                  Parody       0.10      0.07      0.08       165\n",
      "                          Patriotic film       0.00      0.00      0.00         0\n",
      "                           Period Horror       0.00      0.00      0.00         0\n",
      "                            Period piece       0.09      0.08      0.08       265\n",
      "                              Pinku eiga       0.00      0.00      0.00         3\n",
      "                                  Plague       1.00      0.50      0.67         2\n",
      "                      Point of view shot       0.00      0.00      0.00         0\n",
      "                    Political Documetary       0.00      0.00      0.00         0\n",
      "                        Political cinema       0.15      0.10      0.12        40\n",
      "                         Political drama       0.17      0.10      0.13       138\n",
      "                        Political satire       0.00      0.00      0.00        13\n",
      "                      Political thriller       0.00      0.00      0.00        47\n",
      "                      Pornographic movie       0.13      0.15      0.14        27\n",
      "                             Pornography       0.00      0.00      0.00         4\n",
      "                                Pre-Code       0.08      0.07      0.07        30\n",
      "                                  Prison       0.17      0.08      0.11        26\n",
      "                           Prison escape       0.00      0.00      0.00         0\n",
      "                             Prison film       0.00      0.00      0.00         2\n",
      "                Private military company       0.00      0.00      0.00         1\n",
      "                         Propaganda film       0.05      0.08      0.06        13\n",
      "                            Psycho-biddy       0.00      0.00      0.00         5\n",
      "                    Psychological horror       0.00      0.00      0.00         0\n",
      "                  Psychological thriller       0.09      0.10      0.10       225\n",
      "                               Punk rock       0.67      0.33      0.44         6\n",
      "                              Race movie       0.00      0.00      0.00         1\n",
      "                                  Reboot       0.00      0.00      0.00         2\n",
      "                          Religious Film       0.00      0.00      0.00        11\n",
      "                                  Remake       0.00      0.00      0.00        17\n",
      "                                 Revenge       0.00      0.00      0.00         0\n",
      "                  Revisionist Fairy Tale       0.00      0.00      0.00         1\n",
      "                     Revisionist Western       0.00      0.00      0.00         8\n",
      "                              Road movie       0.04      0.04      0.04        55\n",
      "                             Road-Horror       0.00      0.00      0.00         2\n",
      "             Roadshow theatrical release       0.00      0.00      0.00         6\n",
      "                          Roadshow/Carny       0.00      0.00      0.00         1\n",
      "                            Rockumentary       0.11      0.11      0.11         9\n",
      "                            Romance Film       0.32      0.31      0.31      1348\n",
      "                         Romantic comedy       0.17      0.16      0.17       435\n",
      "                          Romantic drama       0.14      0.14      0.14       511\n",
      "                        Romantic fantasy       0.00      0.00      0.00         6\n",
      "                       Romantic thriller       0.00      0.00      0.00         0\n",
      "                          Samurai cinema       0.00      0.00      0.00         5\n",
      "                                  Satire       0.05      0.04      0.04       112\n",
      "                            School story       0.00      0.00      0.00         0\n",
      "          Sci Fi Pictures original films       0.00      0.00      0.00         0\n",
      "                        Sci-Fi Adventure       0.12      0.17      0.14         6\n",
      "                           Sci-Fi Horror       0.03      0.04      0.04        24\n",
      "                         Sci-Fi Thriller       0.00      0.00      0.00         1\n",
      "                         Science Fiction       0.47      0.46      0.46       457\n",
      "                 Science fiction Western       0.00      0.00      0.00         1\n",
      "                        Screwball comedy       0.02      0.02      0.02        53\n",
      "                              Sex comedy       0.05      0.03      0.04        59\n",
      "                           Sexploitation       0.07      0.05      0.06        21\n",
      "                              Short Film       0.45      0.46      0.45       623\n",
      "                             Silent film       0.18      0.15      0.16       247\n",
      "                    Silhouette animation       0.00      0.00      0.00         0\n",
      "                          Singing cowboy       0.00      0.00      0.00         1\n",
      "                               Slapstick       0.18      0.14      0.16       108\n",
      "                                 Slasher       0.24      0.22      0.23       143\n",
      "                     Slice of life story       0.00      0.00      0.00        14\n",
      "                           Social issues       0.07      0.05      0.05        22\n",
      "                     Social problem film       0.00      0.00      0.00        16\n",
      "                           Softcore Porn       0.00      0.00      0.00         6\n",
      "                             Space opera       0.00      0.00      0.00         2\n",
      "                           Space western       0.00      0.00      0.00         5\n",
      "                       Spaghetti Western       0.11      0.10      0.11        10\n",
      "                           Splatter film       0.00      0.00      0.00         8\n",
      "                          Sponsored film       0.00      0.00      0.00         1\n",
      "                                  Sports       0.31      0.25      0.27       146\n",
      "                                     Spy       0.31      0.25      0.27        69\n",
      "                         Stand-up comedy       0.00      0.00      0.00         2\n",
      "                            Star vehicle       0.00      0.00      0.00         1\n",
      "                          Statutory rape       0.00      0.00      0.00         0\n",
      "                               Steampunk       0.17      0.14      0.15         7\n",
      "                             Stoner film       0.00      0.00      0.00        14\n",
      "                             Stop motion       0.19      0.14      0.16        29\n",
      "                               Superhero       0.25      0.17      0.20        24\n",
      "                         Superhero movie       0.33      0.25      0.28        52\n",
      "                        Supermarionation       0.00      0.00      0.00         1\n",
      "                            Supernatural       0.22      0.20      0.21       110\n",
      "                              Surrealism       0.00      0.00      0.00        22\n",
      "                                Suspense       0.06      0.05      0.05       132\n",
      "                      Swashbuckler films       0.20      0.20      0.20        15\n",
      "                        Sword and Sandal       0.00      0.00      0.00         3\n",
      "                       Sword and sorcery       0.00      0.00      0.00         4\n",
      "                 Sword and sorcery films       0.50      0.12      0.20         8\n",
      "                            Tamil cinema       0.00      0.00      0.00        18\n",
      "                                    Teen       0.15      0.11      0.13       171\n",
      "                        Television movie       0.01      0.01      0.01       136\n",
      "         The Netherlands in World War II       0.00      0.00      0.00         0\n",
      "                          Therimin music       0.00      0.00      0.00         1\n",
      "                                Thriller       0.35      0.33      0.34      1347\n",
      "                             Time travel       0.00      0.00      0.00        15\n",
      "                               Tokusatsu       0.00      0.00      0.00         0\n",
      "                               Tollywood       0.33      0.17      0.22         6\n",
      "                                 Tragedy       0.00      0.00      0.00        12\n",
      "                             Tragicomedy       0.00      0.00      0.00        10\n",
      "                                  Travel       0.00      0.00      0.00         2\n",
      "                          Vampire movies       0.00      0.00      0.00         2\n",
      "                              War effort       0.00      0.00      0.00         0\n",
      "                                War film       0.42      0.35      0.38       322\n",
      "                        Werewolf fiction       0.00      0.00      0.00         1\n",
      "                                 Western       0.52      0.48      0.50       205\n",
      "                                Whodunit       0.00      0.00      0.00         9\n",
      "                   Women in prison films       0.00      0.00      0.00         4\n",
      "                        Workplace Comedy       0.09      0.13      0.11        15\n",
      "                           World History       0.00      0.00      0.00         1\n",
      "                            World cinema       0.25      0.24      0.25      1033\n",
      "                                   Wuxia       0.18      0.17      0.17        12\n",
      "                                 Z movie       0.00      0.00      0.00         0\n",
      "                             Zombie Film       0.57      0.43      0.49        47\n",
      "\n",
      "                               micro avg       0.30      0.27      0.28     30490\n",
      "                               macro avg       0.09      0.07      0.08     30490\n",
      "                            weighted avg       0.29      0.27      0.28     30490\n",
      "                             samples avg       0.30      0.30      0.26     30490\n",
      "\n"
     ]
    },
    {
     "name": "stderr",
     "output_type": "stream",
     "text": [
      "C:\\Users\\Pe4\\anaconda3\\Lib\\site-packages\\sklearn\\metrics\\_classification.py:1344: UndefinedMetricWarning: Precision and F-score are ill-defined and being set to 0.0 in samples with no predicted labels. Use `zero_division` parameter to control this behavior.\n",
      "  _warn_prf(average, modifier, msg_start, len(result))\n",
      "C:\\Users\\Pe4\\anaconda3\\Lib\\site-packages\\sklearn\\metrics\\_classification.py:1344: UndefinedMetricWarning: Recall and F-score are ill-defined and being set to 0.0 in samples with no true labels. Use `zero_division` parameter to control this behavior.\n",
      "  _warn_prf(average, modifier, msg_start, len(result))\n"
     ]
    }
   ],
   "execution_count": 21
  },
  {
   "cell_type": "markdown",
   "source": [],
   "metadata": {
    "id": "stL_EGiir29l"
   },
   "id": "stL_EGiir29l"
  },
  {
   "cell_type": "markdown",
   "source": [
    "# 5 - Teste dos Modelos de Classificação\n",
    "Essa seção seguira com testes do modelo de classificação em uma sinopse de filme de exemplo.\n",
    "\n",
    "Para isso, foram selecionados 3 filmes e forneceremos uma sinopse de filme como entrada para o modelo treinado e examinaremos os gêneros previstos pelo modelo.\n"
   ],
   "metadata": {
    "id": "3Zt-Wa1WgIei"
   },
   "id": "3Zt-Wa1WgIei"
  },
  {
   "cell_type": "markdown",
   "source": [
    "\n",
    "Aqui está um exemplo de uma sinopse de filme em inglês:\n",
    "\n",
    "\" In 1936, archaeologist Indiana Jones braves an ancient Peruvian temple filled with booby traps to retrieve a golden idol. Upon fleeing the temple, Indiana is confronted by rival archaeologist René Belloq and the indigenous Hovitos...\"\n",
    "\n",
    "Vamos alimentar essa sinopse para o modelo e ver quais gêneros o modelo prevê para este filme.\n",
    "\n",
    "A função a seguir descreve como o usuário irá inserir os dados que serão passados ao modelo e retornados em tela."
   ],
   "metadata": {
    "id": "oNlRLhyo8QDO"
   },
   "id": "oNlRLhyo8QDO"
  },
  {
   "cell_type": "code",
   "id": "fdbf437c8532ed60",
   "metadata": {
    "id": "fdbf437c8532ed60",
    "ExecuteTime": {
     "end_time": "2024-04-26T19:32:13.123494Z",
     "start_time": "2024-04-26T19:32:12.801842Z"
    }
   },
   "source": [
    "def predict_movie_genre(title, plot_summary, model, mlb):\n",
    "    # Prever os gêneros do filme\n",
    "    prediction = model.predict([plot_summary])\n",
    "\n",
    "    # Decodificar as previsões de volta para os rótulos de gênero\n",
    "    predicted_genres = mlb.inverse_transform(prediction)\n",
    "\n",
    "    # Imprimir os gêneros previstos\n",
    "    print(\"Gêneros previstos para o filme '{}':\".format(title))\n",
    "    for genre in predicted_genres[0]:\n",
    "        print(genre)"
   ],
   "outputs": [],
   "execution_count": 22
  },
  {
   "cell_type": "markdown",
   "source": [
    "## Exemplo 1 - Indiana Jones: Os Caçadores da Arca Perdida\n",
    "\n"
   ],
   "metadata": {
    "id": "AT90jjyTlEHw"
   },
   "id": "AT90jjyTlEHw"
  },
  {
   "cell_type": "markdown",
   "source": [
    "Declaração do filme selecionado\n"
   ],
   "metadata": {
    "id": "ksBBtApc5QF1"
   },
   "id": "ksBBtApc5QF1"
  },
  {
   "cell_type": "code",
   "id": "a80d0e8480edc879",
   "metadata": {
    "id": "a80d0e8480edc879",
    "ExecuteTime": {
     "end_time": "2024-04-26T19:32:13.203289Z",
     "start_time": "2024-04-26T19:32:13.140449Z"
    }
   },
   "source": [
    "movie_title = \"Indiana Jones: Raiders of the Lost Ark\"\n",
    "movie_plot_summary = (\"In 1936, archaeologist Indiana Jones braves an ancient Peruvian temple filled with booby traps to retrieve a golden idol. Upon fleeing the temple, Indiana is confronted by rival archaeologist René Belloq and the indigenous Hovitos. Surrounded and outnumbered, Indiana is forced to surrender the idol to Belloq and escapes aboard a waiting Waco seaplane, in the process revealing his fear of snakes. Shortly after returning to the college in the United States where he teaches archaeology, Indiana is interviewed by two Army intelligence agents. They inform him that the Nazis, in their quest for occult power, are searching for his old mentor, Abner Ravenwood, who is the leading expert on the ancient Egyptian city of Tanis and possesses the headpiece of an artifact called the Staff of Ra. Indiana deduces that the Nazis are searching for Tanis because it is believed to be the location of the Ark of the Covenant, the biblical chest built by the Israelites to contain the fragments of the Ten Commandments; the Nazis believe that if they acquire it, their armies will become invincible. The Staff of Ra, meanwhile, is the key to finding the Well of Souls, a secret chamber in which the Ark is buried. The agents subsequently authorize Indiana to recover the Ark before the Nazis. Indiana travels to Nepal, only to find that Ravenwood has died and that the headpiece is in the possession of his daughter, Marion, Indiana's embittered former lover. Indiana offers to buy the headpiece for three thousand dollars, plus two thousand more when they return to the United States. Marion's tavern is suddenly raided by a group of thugs commanded by Nazi agent Toht. The tavern is burned down in the ensuing fight, during which Toht burns his hand on the searing hot headpiece as he tries to grab it. Indiana and Marion escape with the headpiece, with Marion declaring she will accompany Indiana in his search for the Ark so he can repay his debt. They travel to Cairo where they learn from Indiana's friend Sallah, a skilled excavator, that Belloq and the Nazis, led by Colonel Dietrich, are currently digging for the Well of Souls with a replica of the headpiece modeled after the scar on Toht's hand. In a bazaar, Nazi operatives attempt to kidnap Marion and as Indiana chases after them it appears that she dies in an explosion. While deciphering the markings on the headpiece, Indiana and Sallah realize that the Nazis have miscalculated the location of the Well of Souls. Using this to their advantage, they infiltrate the Nazi dig and use the Staff of Ra to determine the location correctly and uncover the Well of Souls, which is filled with snakes. Indiana fends off the snakes and acquires the Ark, but Belloq, Dietrich and the Nazis arrive to take it. They toss Marion into the well with Indiana and seal them in, but they manage to escape. After a fistfight with a giant Nazi mechanic, blowing up a flying wing on the airstrip, and chasing down a convoy of trucks, Indiana takes back the Ark before it can be shipped to Berlin. Indiana and Marion leave Cairo to escort the Ark to England on board a tramp steamer. The next morning, their boat is boarded by Belloq, Dietrich and the Nazis, who once again steal the Ark and kidnap Marion. Indiana stows away on their U-boat and follows them to an isolated island in the Aegean Sea where Belloq plans to test the power of the Ark before presenting it to Hitler. Indiana reveals himself and threatens to destroy the Ark with a rocket-propelled grenade launcher, but Belloq calls his bluff, knowing Indy cannot bear to eradicate an important historical artifact. Indiana surrenders and is tied to a post with Marion as Belloq performs a ceremonial opening of the Ark, which appears to contain nothing but sand. Suddenly, spirits resembling Old Testament Seraphim emerge from the Ark. Aware of the supernatural danger of looking at the opened Ark, Indiana warns Marion to close her eyes. The apparitions suddenly morph into angels of death, and lightning bolts begin flying out of the Ark, gruesomely killing the Nazi soldiers, while Belloq, Dietrich and Toht meet even more gruesome fates. The fires rise into the sky, then fall back down to Earth and the Ark closes with a crack of thunder. Back in Washington, D.C., the Army intelligence agents tell a suspicious Indiana and Brody that the Ark is someplace safe to be studied by top men. In reality, the Ark is sealed in a wooden crate labeled top secret and stored in a giant government warehouse filled with countless similar crates.\")"
   ],
   "outputs": [],
   "execution_count": 23
  },
  {
   "cell_type": "markdown",
   "source": [
    "Retorno do modelo"
   ],
   "metadata": {
    "id": "owhEUY9y5RTu"
   },
   "id": "owhEUY9y5RTu"
  },
  {
   "cell_type": "code",
   "source": [
    "predict_movie_genre(movie_title, movie_plot_summary, pipeline_rf, mlb)"
   ],
   "metadata": {
    "id": "3H0bcdFfliAL",
    "ExecuteTime": {
     "end_time": "2024-04-26T19:32:48.695338Z",
     "start_time": "2024-04-26T19:32:13.208272Z"
    }
   },
   "id": "3H0bcdFfliAL",
   "outputs": [
    {
     "name": "stdout",
     "output_type": "stream",
     "text": [
      "Gêneros previstos para o filme 'Indiana Jones: Raiders of the Lost Ark':\n",
      "Action\n",
      "Action/Adventure\n",
      "Adventure\n",
      "Airplanes and airports\n",
      "Costume Adventure\n",
      "New Hollywood\n"
     ]
    }
   ],
   "execution_count": 24
  },
  {
   "metadata": {
    "ExecuteTime": {
     "end_time": "2024-04-26T19:32:48.998096Z",
     "start_time": "2024-04-26T19:32:48.702318Z"
    }
   },
   "cell_type": "code",
   "source": "predict_movie_genre(movie_title, movie_plot_summary, pipeline_dt, mlb)",
   "id": "98576c5392798cfe",
   "outputs": [
    {
     "name": "stdout",
     "output_type": "stream",
     "text": [
      "Gêneros previstos para o filme 'Indiana Jones: Raiders of the Lost Ark':\n",
      "Action\n",
      "Action/Adventure\n",
      "Adventure\n",
      "Airplanes and airports\n",
      "Costume Adventure\n",
      "New Hollywood\n"
     ]
    }
   ],
   "execution_count": 25
  },
  {
   "cell_type": "markdown",
   "source": [
    "## Exemplo 2 - A Origem"
   ],
   "metadata": {
    "id": "3WPRLRcwlOyl"
   },
   "id": "3WPRLRcwlOyl"
  },
  {
   "cell_type": "markdown",
   "source": [
    "Declaração do filme selecionado\n"
   ],
   "metadata": {
    "id": "Ak1E6UNc5PUd"
   },
   "id": "Ak1E6UNc5PUd"
  },
  {
   "cell_type": "code",
   "id": "4a624e2f3cc5ada6",
   "metadata": {
    "id": "4a624e2f3cc5ada6",
    "ExecuteTime": {
     "end_time": "2024-04-26T19:32:49.036514Z",
     "start_time": "2024-04-26T19:32:49.026526Z"
    }
   },
   "source": [
    "movie_title = \"Inception\"\n",
    "movie_plot_summary = (\"Former dream architect Dominick Dom Cobb  and business partner Arthur  perform corporate espionage by using an experimental military-developed machine to infiltrate the subconscious of their targets and extract information while dreaming, their latest target being powerful Japanese businessman Saito . Tiered dream within a dream strategies are used and dreamers awaken by a sudden kick or by dying in the dream. However, if the dreamer is the one who dies, the dream collapses. Each extractor carries a totem, a personalized small object whose behavior is only predictable to its owner, that serves the purpose of identifying dream-state or reality. Cobbs totem is a spinning top that perpetually spins in the dream state. The extraction fails due to Mallorie Mal Cobb , Cobbs deceased wife, whose memory projection sabotages the mission. Saito later reveals, after Cobbs and Arthurs associate  sells them out, that he was in fact auditioning the team to perform the difficult act of inception: implanting an idea or thought into a persons subconscious while they are asleep. Saito wishes to break up the energy conglomerate of his ailing competitor Maurice Fischer, by planting this idea in his son and heir Robert Fischer  to disintegrate his fathers company. Should Cobb succeed, Saito would use his influence to clear a murder charge against him, so he can return to the U.S. and his children. Cobb accepts the offer and assembles his team: Eames, a conman and identity forger; Yusuf, a chemist who concocts the powerful sedative for a stable dream within a dream strategy; Ariadne, a young architecture student tasked with designing the labyrinth of the dream landscapes; and Arthur. Saito accompanies so that he knows whether or not Cobb and his team succeeded in their mission. When the elder Fischer dies in Sydney and his body is flown back to Los Angeles, the team share the flight with Robert Fischer and Cobb sedates him, bringing him into the shared dream. At each stage, the member of the team generating the dream stays behind to initiate the kick, while the other members sleep within the dream to travel a level deeper. In the first level, Yusufs rainy downtown dream, the team abducts Fischer. However Fischers antibody-like trained subconscious projections attack and severely wound Saito. Eames temporarily takes the appearance of Fischers godfather, Peter Browning, to suggest Fischer reconsider his fathers will. Yusuf drives the team in a van as they are sedated into Arthurs dream, a hotel, where the team recruit Fischer, convincing him his kidnapping was orchestrated by Browning. In the third dream level, a snowy mountain fortress dreamed by Eames, Fischer is told they are in Brownings subconscious, but they are, in fact, really going deeper into Fischers. Yusuf, under assault by trained projections, initiates his kick too soon by driving off a bridge, sending Arthurs dream world into zero-gravity and causing an avalanche in Eames dream. Arthur is forced to improvise a new kick using an elevator that will be synchronized with the van hitting the water, while the team in Eames dream races to finish the job before the new round of kicks. Unbeknownst to the rest of the team, due to the effects of heavy sedation and multi-layered dreaming, death during this mission will result in entering Limbo, unconstructed dream space where the dreamer could be trapped indefinitely. Elapsed time in each dream level is, on average, roughly twenty times greater than in the level above it; in Limbo, the deepest level of all, 24 hours of outer-world time would be experienced as about half a century there. Cobb reveals to Ariadne that he spent 50 years with Mal in Limbo constructing a world out of their shared memories whilst seemingly growing old together. After waking back into our outermost world, however, Mal remained convinced she was still dreaming and committed suicide, trying to persuade Cobb to do so by retroactively incriminating him in her death. He subsequently fled the U.S. and left his children behind, ostensibly in the care of his father-in-law. Saito finally succumbs to his wounds, and Cobbs projection of Mal sabotages the plan by killing Fischer, sending them both into limbo.Want to understand Inception? Read the screenplay!. Retrieved October 23, 2010. Cobb and Ariadne enter limbo to find Fischer and Saito, while Eames remains on his dream level to set up a kick by rigging the fortress with explosives. Cobb confronts his projection of Mal, who tries to convince him to stay in limbo. Cobb refuses and confesses that he was responsible for Mals suicide: having convinced her to leave limbo by using inception to plant the idea in her mind that the world they had been living in for 50 years was not real, and hence the need to kill themselves in order to return to the real world, once back in the real world she continued to believe dying would wake her. Mal attacks Cobb but Ariadne shoots her. Through his confession, Cobb attains catharsis and chooses to remain in limbo to search for Saito. Ariadne kicks Fischer off a balcony, bringing him back up to the mountain fortress, where he enters a safe room to discover and accept the planted idea: that his father wishes him to be his own man and, accordingly, that splitting up the conglomerate might not be such a radical notion after all. All of the team members except Cobb and Saito ride the synchronized kicks back up to reality: Ariadne jumps off a balcony in limbo, Eames detonates the explosives in the fortress, Arthur blasts an elevator containing the teams sleeping bodies up an elevator shaft, and the van in Yusufs dream hits the water. Saito, who is slowly dying on each level from the initial gun-shot wound, enters Limbo. Cobb eventually finds an aged Saito and the two remember their arrangement, presumably killing themselves and awakening to outer-world reality on the airplane. Saito honors the arrangement and Cobb passes through U.S. customs once the plane lands in Los Angeles. Just before reuniting with his children, Cobb tests reality with his spinning top, but he turns away to greet his children before observing the results. As he plays with his children the camera pans to the spinning top for the final shot, at which point the film abruptly ends.\")"
   ],
   "outputs": [],
   "execution_count": 26
  },
  {
   "cell_type": "markdown",
   "source": [
    "Retorno do modelo"
   ],
   "metadata": {
    "id": "F05sbgBm5Mju"
   },
   "id": "F05sbgBm5Mju"
  },
  {
   "cell_type": "code",
   "source": [
    "predict_movie_genre(movie_title, movie_plot_summary, pipeline_rf, mlb)"
   ],
   "metadata": {
    "id": "KCVwBQN0lpKQ",
    "ExecuteTime": {
     "end_time": "2024-04-26T19:33:11.507851Z",
     "start_time": "2024-04-26T19:32:49.107826Z"
    }
   },
   "id": "KCVwBQN0lpKQ",
   "outputs": [
    {
     "name": "stdout",
     "output_type": "stream",
     "text": [
      "Gêneros previstos para o filme 'Inception':\n",
      "Action\n",
      "Adventure\n",
      "Mystery\n",
      "Psychological thriller\n",
      "Science Fiction\n",
      "Thriller\n"
     ]
    }
   ],
   "execution_count": 27
  },
  {
   "metadata": {
    "ExecuteTime": {
     "end_time": "2024-04-26T19:33:11.802636Z",
     "start_time": "2024-04-26T19:33:11.518822Z"
    }
   },
   "cell_type": "code",
   "source": "predict_movie_genre(movie_title, movie_plot_summary, pipeline_dt, mlb)",
   "id": "2c8baa6dbfab01eb",
   "outputs": [
    {
     "name": "stdout",
     "output_type": "stream",
     "text": [
      "Gêneros previstos para o filme 'Inception':\n",
      "Action\n",
      "Adventure\n",
      "Mystery\n",
      "Psychological thriller\n",
      "Science Fiction\n",
      "Thriller\n"
     ]
    }
   ],
   "execution_count": 28
  },
  {
   "cell_type": "markdown",
   "source": [
    "## Exemplo 3 - Batman (1989)"
   ],
   "metadata": {
    "id": "-8VrWxSXlTjC"
   },
   "id": "-8VrWxSXlTjC"
  },
  {
   "cell_type": "markdown",
   "source": [
    "Declaração do filme selecionado\n"
   ],
   "metadata": {
    "id": "Z5826Sbf5D0Q"
   },
   "id": "Z5826Sbf5D0Q"
  },
  {
   "cell_type": "code",
   "source": [
    "movie_title = \"Batman\"\n",
    "movie_plot_summary = (\"As a child, Bruce Wayne  witnesses his parents killed by a criminal. He vows to avenge their deaths in a lifelong battle against crime in the guise of Batman while concealing his secret identity, adopting the public face of a billionaire playboy and head of Wayne Enterprises. Years later, Gotham City is controlled by crime boss Carl Grissom . Despite the best efforts of newly-elected district attorney Harvey Dent  and police commissioner James Gordon , the Gotham City Police Department remains corrupt. Reporter Alexander Knox  and photojournalist Vicki Vale  begin investigating the rumors of a shadowy vigilante figure dressed as a bat who has been fighting criminals throughout the city. Vicki and Knox attend a benefit at Wayne Manor, where Bruce is taken by Vicki's charms and spends the night with her. That same night, Grissom's second in command, Jack Napier , is sent to raid the Axis Chemicals factory. After the police receive a tip-off and arrive to arrest him, Napier realizes he has been set up by his boss as revenge for his affair with Grissom's mistress. In the midst of the shoot-out, Batman arrives and takes out Napier's henchmen. In the ensuing struggle, Napier shoots at Batman, who deflects the bullet with his metal-reinforced gauntlet and sends it back in Napier's face, tearing it open. Reeling from the pain, Napier topples over a platform rail and falls into a vat of chemicals, even as Batman tries to save him. The chemicals and a botched attempt at plastic surgery leave him with chalk white skin, red lips, green hair, and a permanent rictal grin. Driven insane by his reflection, he reinvents himself as the Joker, a master criminal and homicidal artist. After killing Grissom, the Joker takes over his empire and holds the city at his mercy by chemically altering everyday hygiene products, causing those using a certain combination of products to laugh to death. Batman attempts to track down the Joker, who has become obsessed with Vicki. During an encounter with the Joker, Batman recognizes him as the criminal who murdered his parents. Bruce's butler, Alfred Pennyworth , lets Vicki into the Batcave, where she tells Bruce she is in love with him. Bruce promises to pursue a relationship with her after he has defeated the Joker. Batman destroys the factory the Joker used to make the poisoned products and creates an antidote. The Joker holds a parade through Gotham, luring its citizens on to its streets by dispensing money, intending to kill them with lethal gas. Batman foils his plan, but the Joker kidnaps Vicki and takes her to the top of a cathedral church. After a fight with Batman, the Joker tries to escape on a helicopter, but Batman uses a grappling hook to snare the Joker's legs to a gargoyle; the Joker falls to his death when the gargoyle breaks loose of its moorings. Commissioner Gordon unveils the Bat-Signal along with a note from Batman read by Harvey Dent, promising to defend Gotham whenever crime strikes again.\")"
   ],
   "metadata": {
    "id": "kYnin83ofiTa",
    "ExecuteTime": {
     "end_time": "2024-04-26T19:33:11.854169Z",
     "start_time": "2024-04-26T19:33:11.846512Z"
    }
   },
   "id": "kYnin83ofiTa",
   "outputs": [],
   "execution_count": 29
  },
  {
   "cell_type": "markdown",
   "source": [
    "Retorno do modelo"
   ],
   "metadata": {
    "id": "6GkJkVvA5Hi4"
   },
   "id": "6GkJkVvA5Hi4"
  },
  {
   "cell_type": "code",
   "source": [
    "predict_movie_genre(movie_title, movie_plot_summary, pipeline_rf, mlb)"
   ],
   "metadata": {
    "id": "duUGJQOflsW_",
    "ExecuteTime": {
     "end_time": "2024-04-26T19:33:54.337791Z",
     "start_time": "2024-04-26T19:33:11.972350Z"
    }
   },
   "id": "duUGJQOflsW_",
   "outputs": [
    {
     "name": "stdout",
     "output_type": "stream",
     "text": [
      "Gêneros previstos para o filme 'Batman':\n",
      "Action\n",
      "Action/Adventure\n",
      "Crime Fiction\n",
      "Drama\n",
      "Superhero movie\n",
      "Thriller\n"
     ]
    }
   ],
   "execution_count": 30
  },
  {
   "metadata": {
    "ExecuteTime": {
     "end_time": "2024-04-26T19:33:55.182404Z",
     "start_time": "2024-04-26T19:33:54.381176Z"
    }
   },
   "cell_type": "code",
   "source": "predict_movie_genre(movie_title, movie_plot_summary, pipeline_dt, mlb)",
   "id": "bc4739c2ef56a206",
   "outputs": [
    {
     "name": "stdout",
     "output_type": "stream",
     "text": [
      "Gêneros previstos para o filme 'Batman':\n",
      "Action\n",
      "Action/Adventure\n",
      "Crime Fiction\n",
      "Drama\n",
      "Superhero movie\n",
      "Thriller\n"
     ]
    }
   ],
   "execution_count": 31
  }
 ],
 "metadata": {
  "colab": {
   "provenance": [],
   "collapsed_sections": [
    "K90YTaVBo-Iz",
    "uM-JCOGRsoAz",
    "vIIyukLIhD4o",
    "AT90jjyTlEHw",
    "3WPRLRcwlOyl",
    "-8VrWxSXlTjC"
   ]
  },
  "kernelspec": {
   "display_name": "Python 3",
   "language": "python",
   "name": "python3"
  },
  "language_info": {
   "codemirror_mode": {
    "name": "ipython",
    "version": 2
   },
   "file_extension": ".py",
   "mimetype": "text/x-python",
   "name": "python",
   "nbconvert_exporter": "python",
   "pygments_lexer": "ipython2",
   "version": "2.7.6"
  }
 },
 "nbformat": 4,
 "nbformat_minor": 5
}
